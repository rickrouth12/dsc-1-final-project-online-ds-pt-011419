{
 "cells": [
  {
   "cell_type": "markdown",
   "metadata": {},
   "source": [
    "## Final Project Submission\n",
    "\n",
    "Please fill out:\n",
    "* Student name: Patrick Routh\n",
    "* Student pace: Part Time\n",
    "* Scheduled project review date/time: March 7, 2019 from 6pm-6:45pm ET\n",
    "* Instructor name: Joe San Pietro\n",
    "* Blog post URL: TBD\n"
   ]
  },
  {
   "cell_type": "markdown",
   "metadata": {},
   "source": [
    "# 1. Identifying and Obtaining our Data"
   ]
  },
  {
   "cell_type": "code",
   "execution_count": 1,
   "metadata": {},
   "outputs": [],
   "source": [
    "import numpy as np\n",
    "import pandas as pd\n",
    "import matplotlib.pyplot as plt\n",
    "import seaborn as sns\n",
    "import statsmodels.api as sm\n",
    "%matplotlib inline\n",
    "\n",
    "df = pd.read_csv('kc_house_data.csv')"
   ]
  },
  {
   "cell_type": "code",
   "execution_count": 2,
   "metadata": {},
   "outputs": [
    {
     "data": {
      "text/html": [
       "<div>\n",
       "<style scoped>\n",
       "    .dataframe tbody tr th:only-of-type {\n",
       "        vertical-align: middle;\n",
       "    }\n",
       "\n",
       "    .dataframe tbody tr th {\n",
       "        vertical-align: top;\n",
       "    }\n",
       "\n",
       "    .dataframe thead th {\n",
       "        text-align: right;\n",
       "    }\n",
       "</style>\n",
       "<table border=\"1\" class=\"dataframe\">\n",
       "  <thead>\n",
       "    <tr style=\"text-align: right;\">\n",
       "      <th></th>\n",
       "      <th>id</th>\n",
       "      <th>date</th>\n",
       "      <th>price</th>\n",
       "      <th>bedrooms</th>\n",
       "      <th>bathrooms</th>\n",
       "      <th>sqft_living</th>\n",
       "      <th>sqft_lot</th>\n",
       "      <th>floors</th>\n",
       "      <th>waterfront</th>\n",
       "      <th>view</th>\n",
       "      <th>...</th>\n",
       "      <th>grade</th>\n",
       "      <th>sqft_above</th>\n",
       "      <th>sqft_basement</th>\n",
       "      <th>yr_built</th>\n",
       "      <th>yr_renovated</th>\n",
       "      <th>zipcode</th>\n",
       "      <th>lat</th>\n",
       "      <th>long</th>\n",
       "      <th>sqft_living15</th>\n",
       "      <th>sqft_lot15</th>\n",
       "    </tr>\n",
       "  </thead>\n",
       "  <tbody>\n",
       "    <tr>\n",
       "      <th>0</th>\n",
       "      <td>7129300520</td>\n",
       "      <td>10/13/2014</td>\n",
       "      <td>221900.0</td>\n",
       "      <td>3</td>\n",
       "      <td>1.00</td>\n",
       "      <td>1180</td>\n",
       "      <td>5650</td>\n",
       "      <td>1.0</td>\n",
       "      <td>NaN</td>\n",
       "      <td>0.0</td>\n",
       "      <td>...</td>\n",
       "      <td>7</td>\n",
       "      <td>1180</td>\n",
       "      <td>0.0</td>\n",
       "      <td>1955</td>\n",
       "      <td>0.0</td>\n",
       "      <td>98178</td>\n",
       "      <td>47.5112</td>\n",
       "      <td>-122.257</td>\n",
       "      <td>1340</td>\n",
       "      <td>5650</td>\n",
       "    </tr>\n",
       "    <tr>\n",
       "      <th>1</th>\n",
       "      <td>6414100192</td>\n",
       "      <td>12/9/2014</td>\n",
       "      <td>538000.0</td>\n",
       "      <td>3</td>\n",
       "      <td>2.25</td>\n",
       "      <td>2570</td>\n",
       "      <td>7242</td>\n",
       "      <td>2.0</td>\n",
       "      <td>0.0</td>\n",
       "      <td>0.0</td>\n",
       "      <td>...</td>\n",
       "      <td>7</td>\n",
       "      <td>2170</td>\n",
       "      <td>400.0</td>\n",
       "      <td>1951</td>\n",
       "      <td>1991.0</td>\n",
       "      <td>98125</td>\n",
       "      <td>47.7210</td>\n",
       "      <td>-122.319</td>\n",
       "      <td>1690</td>\n",
       "      <td>7639</td>\n",
       "    </tr>\n",
       "    <tr>\n",
       "      <th>2</th>\n",
       "      <td>5631500400</td>\n",
       "      <td>2/25/2015</td>\n",
       "      <td>180000.0</td>\n",
       "      <td>2</td>\n",
       "      <td>1.00</td>\n",
       "      <td>770</td>\n",
       "      <td>10000</td>\n",
       "      <td>1.0</td>\n",
       "      <td>0.0</td>\n",
       "      <td>0.0</td>\n",
       "      <td>...</td>\n",
       "      <td>6</td>\n",
       "      <td>770</td>\n",
       "      <td>0.0</td>\n",
       "      <td>1933</td>\n",
       "      <td>NaN</td>\n",
       "      <td>98028</td>\n",
       "      <td>47.7379</td>\n",
       "      <td>-122.233</td>\n",
       "      <td>2720</td>\n",
       "      <td>8062</td>\n",
       "    </tr>\n",
       "    <tr>\n",
       "      <th>3</th>\n",
       "      <td>2487200875</td>\n",
       "      <td>12/9/2014</td>\n",
       "      <td>604000.0</td>\n",
       "      <td>4</td>\n",
       "      <td>3.00</td>\n",
       "      <td>1960</td>\n",
       "      <td>5000</td>\n",
       "      <td>1.0</td>\n",
       "      <td>0.0</td>\n",
       "      <td>0.0</td>\n",
       "      <td>...</td>\n",
       "      <td>7</td>\n",
       "      <td>1050</td>\n",
       "      <td>910.0</td>\n",
       "      <td>1965</td>\n",
       "      <td>0.0</td>\n",
       "      <td>98136</td>\n",
       "      <td>47.5208</td>\n",
       "      <td>-122.393</td>\n",
       "      <td>1360</td>\n",
       "      <td>5000</td>\n",
       "    </tr>\n",
       "    <tr>\n",
       "      <th>4</th>\n",
       "      <td>1954400510</td>\n",
       "      <td>2/18/2015</td>\n",
       "      <td>510000.0</td>\n",
       "      <td>3</td>\n",
       "      <td>2.00</td>\n",
       "      <td>1680</td>\n",
       "      <td>8080</td>\n",
       "      <td>1.0</td>\n",
       "      <td>0.0</td>\n",
       "      <td>0.0</td>\n",
       "      <td>...</td>\n",
       "      <td>8</td>\n",
       "      <td>1680</td>\n",
       "      <td>0.0</td>\n",
       "      <td>1987</td>\n",
       "      <td>0.0</td>\n",
       "      <td>98074</td>\n",
       "      <td>47.6168</td>\n",
       "      <td>-122.045</td>\n",
       "      <td>1800</td>\n",
       "      <td>7503</td>\n",
       "    </tr>\n",
       "  </tbody>\n",
       "</table>\n",
       "<p>5 rows × 21 columns</p>\n",
       "</div>"
      ],
      "text/plain": [
       "           id        date     price  bedrooms  bathrooms  sqft_living  \\\n",
       "0  7129300520  10/13/2014  221900.0         3       1.00         1180   \n",
       "1  6414100192   12/9/2014  538000.0         3       2.25         2570   \n",
       "2  5631500400   2/25/2015  180000.0         2       1.00          770   \n",
       "3  2487200875   12/9/2014  604000.0         4       3.00         1960   \n",
       "4  1954400510   2/18/2015  510000.0         3       2.00         1680   \n",
       "\n",
       "   sqft_lot  floors  waterfront  view     ...      grade  sqft_above  \\\n",
       "0      5650     1.0         NaN   0.0     ...          7        1180   \n",
       "1      7242     2.0         0.0   0.0     ...          7        2170   \n",
       "2     10000     1.0         0.0   0.0     ...          6         770   \n",
       "3      5000     1.0         0.0   0.0     ...          7        1050   \n",
       "4      8080     1.0         0.0   0.0     ...          8        1680   \n",
       "\n",
       "   sqft_basement yr_built  yr_renovated  zipcode      lat     long  \\\n",
       "0            0.0     1955           0.0    98178  47.5112 -122.257   \n",
       "1          400.0     1951        1991.0    98125  47.7210 -122.319   \n",
       "2            0.0     1933           NaN    98028  47.7379 -122.233   \n",
       "3          910.0     1965           0.0    98136  47.5208 -122.393   \n",
       "4            0.0     1987           0.0    98074  47.6168 -122.045   \n",
       "\n",
       "   sqft_living15  sqft_lot15  \n",
       "0           1340        5650  \n",
       "1           1690        7639  \n",
       "2           2720        8062  \n",
       "3           1360        5000  \n",
       "4           1800        7503  \n",
       "\n",
       "[5 rows x 21 columns]"
      ]
     },
     "execution_count": 2,
     "metadata": {},
     "output_type": "execute_result"
    }
   ],
   "source": [
    "df.head()"
   ]
  },
  {
   "cell_type": "markdown",
   "metadata": {},
   "source": [
    "# 2. Evaluating the Quality of our Data - Scrubbing"
   ]
  },
  {
   "cell_type": "code",
   "execution_count": 3,
   "metadata": {},
   "outputs": [
    {
     "name": "stdout",
     "output_type": "stream",
     "text": [
      "<class 'pandas.core.frame.DataFrame'>\n",
      "RangeIndex: 21597 entries, 0 to 21596\n",
      "Data columns (total 21 columns):\n",
      "id               21597 non-null int64\n",
      "date             21597 non-null object\n",
      "price            21597 non-null float64\n",
      "bedrooms         21597 non-null int64\n",
      "bathrooms        21597 non-null float64\n",
      "sqft_living      21597 non-null int64\n",
      "sqft_lot         21597 non-null int64\n",
      "floors           21597 non-null float64\n",
      "waterfront       19221 non-null float64\n",
      "view             21534 non-null float64\n",
      "condition        21597 non-null int64\n",
      "grade            21597 non-null int64\n",
      "sqft_above       21597 non-null int64\n",
      "sqft_basement    21597 non-null object\n",
      "yr_built         21597 non-null int64\n",
      "yr_renovated     17755 non-null float64\n",
      "zipcode          21597 non-null int64\n",
      "lat              21597 non-null float64\n",
      "long             21597 non-null float64\n",
      "sqft_living15    21597 non-null int64\n",
      "sqft_lot15       21597 non-null int64\n",
      "dtypes: float64(8), int64(11), object(2)\n",
      "memory usage: 3.5+ MB\n"
     ]
    }
   ],
   "source": [
    "df.info()"
   ]
  },
  {
   "cell_type": "code",
   "execution_count": 4,
   "metadata": {},
   "outputs": [
    {
     "data": {
      "text/html": [
       "<div>\n",
       "<style scoped>\n",
       "    .dataframe tbody tr th:only-of-type {\n",
       "        vertical-align: middle;\n",
       "    }\n",
       "\n",
       "    .dataframe tbody tr th {\n",
       "        vertical-align: top;\n",
       "    }\n",
       "\n",
       "    .dataframe thead th {\n",
       "        text-align: right;\n",
       "    }\n",
       "</style>\n",
       "<table border=\"1\" class=\"dataframe\">\n",
       "  <thead>\n",
       "    <tr style=\"text-align: right;\">\n",
       "      <th></th>\n",
       "      <th>id</th>\n",
       "      <th>price</th>\n",
       "      <th>bedrooms</th>\n",
       "      <th>bathrooms</th>\n",
       "      <th>sqft_living</th>\n",
       "      <th>sqft_lot</th>\n",
       "      <th>floors</th>\n",
       "      <th>waterfront</th>\n",
       "      <th>view</th>\n",
       "      <th>condition</th>\n",
       "      <th>grade</th>\n",
       "      <th>sqft_above</th>\n",
       "      <th>yr_built</th>\n",
       "      <th>yr_renovated</th>\n",
       "      <th>zipcode</th>\n",
       "      <th>lat</th>\n",
       "      <th>long</th>\n",
       "      <th>sqft_living15</th>\n",
       "      <th>sqft_lot15</th>\n",
       "    </tr>\n",
       "  </thead>\n",
       "  <tbody>\n",
       "    <tr>\n",
       "      <th>count</th>\n",
       "      <td>2.159700e+04</td>\n",
       "      <td>2.159700e+04</td>\n",
       "      <td>21597.000000</td>\n",
       "      <td>21597.000000</td>\n",
       "      <td>21597.000000</td>\n",
       "      <td>2.159700e+04</td>\n",
       "      <td>21597.000000</td>\n",
       "      <td>19221.000000</td>\n",
       "      <td>21534.000000</td>\n",
       "      <td>21597.000000</td>\n",
       "      <td>21597.000000</td>\n",
       "      <td>21597.000000</td>\n",
       "      <td>21597.000000</td>\n",
       "      <td>17755.000000</td>\n",
       "      <td>21597.000000</td>\n",
       "      <td>21597.000000</td>\n",
       "      <td>21597.000000</td>\n",
       "      <td>21597.000000</td>\n",
       "      <td>21597.000000</td>\n",
       "    </tr>\n",
       "    <tr>\n",
       "      <th>mean</th>\n",
       "      <td>4.580474e+09</td>\n",
       "      <td>5.402966e+05</td>\n",
       "      <td>3.373200</td>\n",
       "      <td>2.115826</td>\n",
       "      <td>2080.321850</td>\n",
       "      <td>1.509941e+04</td>\n",
       "      <td>1.494096</td>\n",
       "      <td>0.007596</td>\n",
       "      <td>0.233863</td>\n",
       "      <td>3.409825</td>\n",
       "      <td>7.657915</td>\n",
       "      <td>1788.596842</td>\n",
       "      <td>1970.999676</td>\n",
       "      <td>83.636778</td>\n",
       "      <td>98077.951845</td>\n",
       "      <td>47.560093</td>\n",
       "      <td>-122.213982</td>\n",
       "      <td>1986.620318</td>\n",
       "      <td>12758.283512</td>\n",
       "    </tr>\n",
       "    <tr>\n",
       "      <th>std</th>\n",
       "      <td>2.876736e+09</td>\n",
       "      <td>3.673681e+05</td>\n",
       "      <td>0.926299</td>\n",
       "      <td>0.768984</td>\n",
       "      <td>918.106125</td>\n",
       "      <td>4.141264e+04</td>\n",
       "      <td>0.539683</td>\n",
       "      <td>0.086825</td>\n",
       "      <td>0.765686</td>\n",
       "      <td>0.650546</td>\n",
       "      <td>1.173200</td>\n",
       "      <td>827.759761</td>\n",
       "      <td>29.375234</td>\n",
       "      <td>399.946414</td>\n",
       "      <td>53.513072</td>\n",
       "      <td>0.138552</td>\n",
       "      <td>0.140724</td>\n",
       "      <td>685.230472</td>\n",
       "      <td>27274.441950</td>\n",
       "    </tr>\n",
       "    <tr>\n",
       "      <th>min</th>\n",
       "      <td>1.000102e+06</td>\n",
       "      <td>7.800000e+04</td>\n",
       "      <td>1.000000</td>\n",
       "      <td>0.500000</td>\n",
       "      <td>370.000000</td>\n",
       "      <td>5.200000e+02</td>\n",
       "      <td>1.000000</td>\n",
       "      <td>0.000000</td>\n",
       "      <td>0.000000</td>\n",
       "      <td>1.000000</td>\n",
       "      <td>3.000000</td>\n",
       "      <td>370.000000</td>\n",
       "      <td>1900.000000</td>\n",
       "      <td>0.000000</td>\n",
       "      <td>98001.000000</td>\n",
       "      <td>47.155900</td>\n",
       "      <td>-122.519000</td>\n",
       "      <td>399.000000</td>\n",
       "      <td>651.000000</td>\n",
       "    </tr>\n",
       "    <tr>\n",
       "      <th>25%</th>\n",
       "      <td>2.123049e+09</td>\n",
       "      <td>3.220000e+05</td>\n",
       "      <td>3.000000</td>\n",
       "      <td>1.750000</td>\n",
       "      <td>1430.000000</td>\n",
       "      <td>5.040000e+03</td>\n",
       "      <td>1.000000</td>\n",
       "      <td>0.000000</td>\n",
       "      <td>0.000000</td>\n",
       "      <td>3.000000</td>\n",
       "      <td>7.000000</td>\n",
       "      <td>1190.000000</td>\n",
       "      <td>1951.000000</td>\n",
       "      <td>0.000000</td>\n",
       "      <td>98033.000000</td>\n",
       "      <td>47.471100</td>\n",
       "      <td>-122.328000</td>\n",
       "      <td>1490.000000</td>\n",
       "      <td>5100.000000</td>\n",
       "    </tr>\n",
       "    <tr>\n",
       "      <th>50%</th>\n",
       "      <td>3.904930e+09</td>\n",
       "      <td>4.500000e+05</td>\n",
       "      <td>3.000000</td>\n",
       "      <td>2.250000</td>\n",
       "      <td>1910.000000</td>\n",
       "      <td>7.618000e+03</td>\n",
       "      <td>1.500000</td>\n",
       "      <td>0.000000</td>\n",
       "      <td>0.000000</td>\n",
       "      <td>3.000000</td>\n",
       "      <td>7.000000</td>\n",
       "      <td>1560.000000</td>\n",
       "      <td>1975.000000</td>\n",
       "      <td>0.000000</td>\n",
       "      <td>98065.000000</td>\n",
       "      <td>47.571800</td>\n",
       "      <td>-122.231000</td>\n",
       "      <td>1840.000000</td>\n",
       "      <td>7620.000000</td>\n",
       "    </tr>\n",
       "    <tr>\n",
       "      <th>75%</th>\n",
       "      <td>7.308900e+09</td>\n",
       "      <td>6.450000e+05</td>\n",
       "      <td>4.000000</td>\n",
       "      <td>2.500000</td>\n",
       "      <td>2550.000000</td>\n",
       "      <td>1.068500e+04</td>\n",
       "      <td>2.000000</td>\n",
       "      <td>0.000000</td>\n",
       "      <td>0.000000</td>\n",
       "      <td>4.000000</td>\n",
       "      <td>8.000000</td>\n",
       "      <td>2210.000000</td>\n",
       "      <td>1997.000000</td>\n",
       "      <td>0.000000</td>\n",
       "      <td>98118.000000</td>\n",
       "      <td>47.678000</td>\n",
       "      <td>-122.125000</td>\n",
       "      <td>2360.000000</td>\n",
       "      <td>10083.000000</td>\n",
       "    </tr>\n",
       "    <tr>\n",
       "      <th>max</th>\n",
       "      <td>9.900000e+09</td>\n",
       "      <td>7.700000e+06</td>\n",
       "      <td>33.000000</td>\n",
       "      <td>8.000000</td>\n",
       "      <td>13540.000000</td>\n",
       "      <td>1.651359e+06</td>\n",
       "      <td>3.500000</td>\n",
       "      <td>1.000000</td>\n",
       "      <td>4.000000</td>\n",
       "      <td>5.000000</td>\n",
       "      <td>13.000000</td>\n",
       "      <td>9410.000000</td>\n",
       "      <td>2015.000000</td>\n",
       "      <td>2015.000000</td>\n",
       "      <td>98199.000000</td>\n",
       "      <td>47.777600</td>\n",
       "      <td>-121.315000</td>\n",
       "      <td>6210.000000</td>\n",
       "      <td>871200.000000</td>\n",
       "    </tr>\n",
       "  </tbody>\n",
       "</table>\n",
       "</div>"
      ],
      "text/plain": [
       "                 id         price      bedrooms     bathrooms   sqft_living  \\\n",
       "count  2.159700e+04  2.159700e+04  21597.000000  21597.000000  21597.000000   \n",
       "mean   4.580474e+09  5.402966e+05      3.373200      2.115826   2080.321850   \n",
       "std    2.876736e+09  3.673681e+05      0.926299      0.768984    918.106125   \n",
       "min    1.000102e+06  7.800000e+04      1.000000      0.500000    370.000000   \n",
       "25%    2.123049e+09  3.220000e+05      3.000000      1.750000   1430.000000   \n",
       "50%    3.904930e+09  4.500000e+05      3.000000      2.250000   1910.000000   \n",
       "75%    7.308900e+09  6.450000e+05      4.000000      2.500000   2550.000000   \n",
       "max    9.900000e+09  7.700000e+06     33.000000      8.000000  13540.000000   \n",
       "\n",
       "           sqft_lot        floors    waterfront          view     condition  \\\n",
       "count  2.159700e+04  21597.000000  19221.000000  21534.000000  21597.000000   \n",
       "mean   1.509941e+04      1.494096      0.007596      0.233863      3.409825   \n",
       "std    4.141264e+04      0.539683      0.086825      0.765686      0.650546   \n",
       "min    5.200000e+02      1.000000      0.000000      0.000000      1.000000   \n",
       "25%    5.040000e+03      1.000000      0.000000      0.000000      3.000000   \n",
       "50%    7.618000e+03      1.500000      0.000000      0.000000      3.000000   \n",
       "75%    1.068500e+04      2.000000      0.000000      0.000000      4.000000   \n",
       "max    1.651359e+06      3.500000      1.000000      4.000000      5.000000   \n",
       "\n",
       "              grade    sqft_above      yr_built  yr_renovated       zipcode  \\\n",
       "count  21597.000000  21597.000000  21597.000000  17755.000000  21597.000000   \n",
       "mean       7.657915   1788.596842   1970.999676     83.636778  98077.951845   \n",
       "std        1.173200    827.759761     29.375234    399.946414     53.513072   \n",
       "min        3.000000    370.000000   1900.000000      0.000000  98001.000000   \n",
       "25%        7.000000   1190.000000   1951.000000      0.000000  98033.000000   \n",
       "50%        7.000000   1560.000000   1975.000000      0.000000  98065.000000   \n",
       "75%        8.000000   2210.000000   1997.000000      0.000000  98118.000000   \n",
       "max       13.000000   9410.000000   2015.000000   2015.000000  98199.000000   \n",
       "\n",
       "                lat          long  sqft_living15     sqft_lot15  \n",
       "count  21597.000000  21597.000000   21597.000000   21597.000000  \n",
       "mean      47.560093   -122.213982    1986.620318   12758.283512  \n",
       "std        0.138552      0.140724     685.230472   27274.441950  \n",
       "min       47.155900   -122.519000     399.000000     651.000000  \n",
       "25%       47.471100   -122.328000    1490.000000    5100.000000  \n",
       "50%       47.571800   -122.231000    1840.000000    7620.000000  \n",
       "75%       47.678000   -122.125000    2360.000000   10083.000000  \n",
       "max       47.777600   -121.315000    6210.000000  871200.000000  "
      ]
     },
     "execution_count": 4,
     "metadata": {},
     "output_type": "execute_result"
    }
   ],
   "source": [
    "df.describe()"
   ]
  },
  {
   "cell_type": "markdown",
   "metadata": {},
   "source": [
    "### Finding and Dealing with Null and Missing Values / Validating Data Types"
   ]
  },
  {
   "cell_type": "code",
   "execution_count": 5,
   "metadata": {},
   "outputs": [
    {
     "data": {
      "text/plain": [
       "id                  0\n",
       "date                0\n",
       "price               0\n",
       "bedrooms            0\n",
       "bathrooms           0\n",
       "sqft_living         0\n",
       "sqft_lot            0\n",
       "floors              0\n",
       "waterfront       2376\n",
       "view               63\n",
       "condition           0\n",
       "grade               0\n",
       "sqft_above          0\n",
       "sqft_basement       0\n",
       "yr_built            0\n",
       "yr_renovated     3842\n",
       "zipcode             0\n",
       "lat                 0\n",
       "long                0\n",
       "sqft_living15       0\n",
       "sqft_lot15          0\n",
       "dtype: int64"
      ]
     },
     "execution_count": 5,
     "metadata": {},
     "output_type": "execute_result"
    }
   ],
   "source": [
    "df.isna().sum()"
   ]
  },
  {
   "cell_type": "markdown",
   "metadata": {},
   "source": [
    "#### Id"
   ]
  },
  {
   "cell_type": "code",
   "execution_count": 6,
   "metadata": {},
   "outputs": [],
   "source": [
    "# Remove id, will not be a useful feature\n",
    "df = df.drop('id', axis=1)"
   ]
  },
  {
   "cell_type": "markdown",
   "metadata": {},
   "source": [
    "#### Date"
   ]
  },
  {
   "cell_type": "markdown",
   "metadata": {},
   "source": [
    "#### Bedrooms - outliers present, data type change required"
   ]
  },
  {
   "cell_type": "code",
   "execution_count": 7,
   "metadata": {},
   "outputs": [],
   "source": [
    "# change data type from float to int\n",
    "df.bedrooms = df.bedrooms.astype('int')"
   ]
  },
  {
   "cell_type": "markdown",
   "metadata": {},
   "source": [
    "#### Waterfront - replace nan values with 0 and data type change required"
   ]
  },
  {
   "cell_type": "code",
   "execution_count": 8,
   "metadata": {},
   "outputs": [
    {
     "data": {
      "text/plain": [
       "0.0    19075\n",
       "1.0      146\n",
       "Name: waterfront, dtype: int64"
      ]
     },
     "execution_count": 8,
     "metadata": {},
     "output_type": "execute_result"
    }
   ],
   "source": [
    "df.waterfront.value_counts()"
   ]
  },
  {
   "cell_type": "code",
   "execution_count": 9,
   "metadata": {},
   "outputs": [
    {
     "data": {
      "text/plain": [
       "2376"
      ]
     },
     "execution_count": 9,
     "metadata": {},
     "output_type": "execute_result"
    }
   ],
   "source": [
    "df.waterfront.isna().sum()"
   ]
  },
  {
   "cell_type": "code",
   "execution_count": 10,
   "metadata": {},
   "outputs": [],
   "source": [
    "df.waterfront = df.waterfront.replace(np.nan, 0)"
   ]
  },
  {
   "cell_type": "code",
   "execution_count": 11,
   "metadata": {},
   "outputs": [],
   "source": [
    "# change data type from float to str\n",
    "df.waterfront = df.waterfront.astype('int')"
   ]
  },
  {
   "cell_type": "markdown",
   "metadata": {},
   "source": [
    "#### View - data type change required and drop null values"
   ]
  },
  {
   "cell_type": "code",
   "execution_count": 12,
   "metadata": {},
   "outputs": [],
   "source": [
    "df.view = df.view.astype('str')"
   ]
  },
  {
   "cell_type": "code",
   "execution_count": 13,
   "metadata": {},
   "outputs": [],
   "source": [
    "df = df[df.view != 'nan']"
   ]
  },
  {
   "cell_type": "code",
   "execution_count": 14,
   "metadata": {},
   "outputs": [],
   "source": [
    "df.view = df.view.astype('float')"
   ]
  },
  {
   "cell_type": "markdown",
   "metadata": {},
   "source": [
    "#### Condition - data type change required"
   ]
  },
  {
   "cell_type": "code",
   "execution_count": 15,
   "metadata": {},
   "outputs": [],
   "source": [
    "# change data type from float to int\n",
    "df.condition = df.condition.astype('int')"
   ]
  },
  {
   "cell_type": "markdown",
   "metadata": {},
   "source": [
    "#### Grade - data type change required"
   ]
  },
  {
   "cell_type": "code",
   "execution_count": 16,
   "metadata": {},
   "outputs": [],
   "source": [
    "# change data type from float to str\n",
    "df.grade = df.grade.astype('int')"
   ]
  },
  {
   "cell_type": "markdown",
   "metadata": {},
   "source": [
    "#### Sqft_basement - need to address/remove ? values, change data type to float"
   ]
  },
  {
   "cell_type": "code",
   "execution_count": 17,
   "metadata": {},
   "outputs": [],
   "source": [
    "# remove records with ? values\n",
    "df = df[df.sqft_basement != '?']"
   ]
  },
  {
   "cell_type": "code",
   "execution_count": 18,
   "metadata": {},
   "outputs": [],
   "source": [
    "# change data type from float to int\n",
    "df.sqft_basement = df.sqft_basement.astype('float')"
   ]
  },
  {
   "cell_type": "markdown",
   "metadata": {},
   "source": [
    "#### Yr_built"
   ]
  },
  {
   "cell_type": "code",
   "execution_count": 19,
   "metadata": {},
   "outputs": [],
   "source": [
    "df.yr_built = df.yr_built.astype('int')"
   ]
  },
  {
   "cell_type": "markdown",
   "metadata": {},
   "source": [
    "#### Yr_renovated - categorical feature"
   ]
  },
  {
   "cell_type": "code",
   "execution_count": 20,
   "metadata": {},
   "outputs": [
    {
     "data": {
      "text/plain": [
       "3742"
      ]
     },
     "execution_count": 20,
     "metadata": {},
     "output_type": "execute_result"
    }
   ],
   "source": [
    "df.yr_renovated.isna().sum()"
   ]
  },
  {
   "cell_type": "code",
   "execution_count": 21,
   "metadata": {},
   "outputs": [],
   "source": [
    "# replace all NaN values with most common entry, 0\n",
    "df.yr_renovated = df.yr_renovated.fillna(0)"
   ]
  },
  {
   "cell_type": "code",
   "execution_count": 22,
   "metadata": {},
   "outputs": [],
   "source": [
    "# cast column as type int\n",
    "df.yr_renovated = df.yr_renovated.astype('int')"
   ]
  },
  {
   "cell_type": "markdown",
   "metadata": {},
   "source": [
    "#### Zipcode - categorical feature, data type change required"
   ]
  },
  {
   "cell_type": "code",
   "execution_count": 23,
   "metadata": {},
   "outputs": [],
   "source": [
    "# change data type from float to int\n",
    "df.zipcode = df.zipcode.astype('int')"
   ]
  },
  {
   "cell_type": "markdown",
   "metadata": {},
   "source": [
    "## Removing Outliers"
   ]
  },
  {
   "cell_type": "markdown",
   "metadata": {},
   "source": [
    "### Visualizing Data Distributions"
   ]
  },
  {
   "cell_type": "code",
   "execution_count": 24,
   "metadata": {},
   "outputs": [
    {
     "data": {
      "image/png": "[encoded data removed]",
      "text/plain": [
       "<Figure size 1008x1008 with 20 Axes>"
      ]
     },
     "metadata": {
      "needs_background": "light"
     },
     "output_type": "display_data"
    }
   ],
   "source": [
    "df.hist(figsize = [14,14]);"
   ]
  },
  {
   "cell_type": "markdown",
   "metadata": {},
   "source": [
    "#### Based on the Histograms above, I chose to eliminate visual outliers from the data set in order to improve my data distributions to more closely resemble normal distributions"
   ]
  },
  {
   "cell_type": "code",
   "execution_count": 25,
   "metadata": {},
   "outputs": [],
   "source": [
    "df = df[df.bedrooms <= 5]"
   ]
  },
  {
   "cell_type": "code",
   "execution_count": 26,
   "metadata": {},
   "outputs": [],
   "source": [
    "df = df[df.bathrooms <= 4]"
   ]
  },
  {
   "cell_type": "code",
   "execution_count": 27,
   "metadata": {},
   "outputs": [],
   "source": [
    "df = df[df.sqft_basement <= 2000]"
   ]
  },
  {
   "cell_type": "code",
   "execution_count": 28,
   "metadata": {},
   "outputs": [],
   "source": [
    "df = df[df.sqft_living <= 3000]"
   ]
  },
  {
   "cell_type": "code",
   "execution_count": 29,
   "metadata": {},
   "outputs": [],
   "source": [
    "df = df[df.sqft_living15 <= 3000]"
   ]
  },
  {
   "cell_type": "code",
   "execution_count": 30,
   "metadata": {},
   "outputs": [],
   "source": [
    "df = df[df.sqft_above <= 3500]"
   ]
  },
  {
   "cell_type": "code",
   "execution_count": 31,
   "metadata": {},
   "outputs": [],
   "source": [
    "df = df[df.sqft_lot <= 15000]"
   ]
  },
  {
   "cell_type": "code",
   "execution_count": 32,
   "metadata": {},
   "outputs": [],
   "source": [
    "df = df[df.sqft_lot15 <= 15000]"
   ]
  },
  {
   "cell_type": "code",
   "execution_count": 33,
   "metadata": {},
   "outputs": [],
   "source": [
    "df = df[df.price <= 600000]"
   ]
  },
  {
   "cell_type": "code",
   "execution_count": 34,
   "metadata": {},
   "outputs": [
    {
     "data": {
      "image/png": "[encoded data removed]",
      "text/plain": [
       "<Figure size 1080x1080 with 20 Axes>"
      ]
     },
     "metadata": {
      "needs_background": "light"
     },
     "output_type": "display_data"
    }
   ],
   "source": [
    "df.hist(figsize = [15,15]);"
   ]
  },
  {
   "cell_type": "markdown",
   "metadata": {},
   "source": [
    "### Candidates for Removal\n",
    "\n",
    "- floors\n",
    "- sqft_basement\n",
    "- long\n",
    "- lat\n"
   ]
  },
  {
   "cell_type": "markdown",
   "metadata": {},
   "source": [
    "### Categorical Features\n",
    "\n",
    "- view\n",
    "- waterfront\n",
    "- condition\n",
    "- grade\n",
    "- zipcode\n",
    "- yr_renovated\n",
    "- date\n"
   ]
  },
  {
   "cell_type": "code",
   "execution_count": 35,
   "metadata": {},
   "outputs": [],
   "source": [
    "df_numerical_features = df.copy(deep=True)\n",
    "df_numerical_features = df_numerical_features.drop(['date', 'waterfront', 'view', \n",
    "                                                    'condition', 'grade', 'yr_built', 'yr_renovated', \n",
    "                                                    'zipcode', 'lat', 'long'], axis=1)"
   ]
  },
  {
   "cell_type": "code",
   "execution_count": 36,
   "metadata": {},
   "outputs": [
    {
     "data": {
      "text/plain": [
       "Index(['price', 'bedrooms', 'bathrooms', 'sqft_living', 'sqft_lot', 'floors',\n",
       "       'sqft_above', 'sqft_basement', 'sqft_living15', 'sqft_lot15'],\n",
       "      dtype='object')"
      ]
     },
     "execution_count": 36,
     "metadata": {},
     "output_type": "execute_result"
    }
   ],
   "source": [
    "df_numerical_features.columns"
   ]
  },
  {
   "cell_type": "markdown",
   "metadata": {},
   "source": [
    "## Analysis -  Removed Outliers from continuous features"
   ]
  },
  {
   "cell_type": "markdown",
   "metadata": {},
   "source": [
    "#### Normality Check\n",
    "\n",
    "Pass - bathrooms, bedrooms, condition, grade, sqft_living, sqft_living15, sqft_lot, sqft_lot15, sqft_above all pass and closely resemble normal distribution\n",
    "\n",
    "Fail - floors, lat, sqft_basement, long, waterfront, yr_built, yr_renovated, zipcode do not resemble a normal distribution\n",
    "\n",
    "Summary: Those features that pass the normality check are good candidates for feature predictors while those that fail have a piece of evidence to support their removal."
   ]
  },
  {
   "cell_type": "markdown",
   "metadata": {},
   "source": [
    "# 3. Exploratory Data Analysis"
   ]
  },
  {
   "cell_type": "markdown",
   "metadata": {},
   "source": [
    "## Correlation - Checking for Multicollinearity"
   ]
  },
  {
   "cell_type": "code",
   "execution_count": 37,
   "metadata": {},
   "outputs": [
    {
     "data": {
      "text/plain": [
       "<matplotlib.axes._subplots.AxesSubplot at 0x1c258f8438>"
      ]
     },
     "execution_count": 37,
     "metadata": {},
     "output_type": "execute_result"
    },
    {
     "data": {
      "image/png": "[encoded data removed]",
      "text/plain": [
       "<Figure size 792x648 with 2 Axes>"
      ]
     },
     "metadata": {
      "needs_background": "light"
     },
     "output_type": "display_data"
    }
   ],
   "source": [
    "cmap = sns.diverging_palette(220, 10, as_cmap=True)\n",
    "\n",
    "f, ax = plt.subplots(figsize=(11, 9))\n",
    "sns.heatmap(df.corr(), cmap=cmap)"
   ]
  },
  {
   "cell_type": "markdown",
   "metadata": {},
   "source": [
    "### Multicollinearity Analysis\n",
    "\n",
    "There is clear evidence of multicollinearity between: \n",
    " - sqft_living, sqft_above, sqft_living15, and grade\n",
    " - sqft_lot and sqft_lot15\n",
    " - floors and sqft_lot\n",
    " - zipcode and long\n",
    " \n",
    "Summary: First piece of evidence that sqft_living and/or sqft_living15 are candidates for feature removal to improve the validity of my future linear regression model."
   ]
  },
  {
   "cell_type": "markdown",
   "metadata": {},
   "source": [
    "### Dealing with Categorical Features"
   ]
  },
  {
   "cell_type": "code",
   "execution_count": 38,
   "metadata": {},
   "outputs": [],
   "source": [
    "df_categorical = df.drop(['bedrooms', 'bathrooms', 'sqft_living', 'sqft_lot', 'floors',\n",
    "       'sqft_above', 'sqft_living15', 'sqft_lot15'], axis=1)"
   ]
  },
  {
   "cell_type": "code",
   "execution_count": 39,
   "metadata": {},
   "outputs": [],
   "source": [
    "df_categorical['basement'] = np.where(df['sqft_basement'] > 0, 1, 0)"
   ]
  },
  {
   "cell_type": "code",
   "execution_count": 40,
   "metadata": {},
   "outputs": [],
   "source": [
    "df_categorical['no_basement'] = np.where(df['sqft_basement'] > 0, 0, 1)"
   ]
  },
  {
   "cell_type": "code",
   "execution_count": 41,
   "metadata": {},
   "outputs": [],
   "source": [
    "df_categorical['renovation'] = np.where(df['yr_renovated'] > 0, 1, 0)"
   ]
  },
  {
   "cell_type": "code",
   "execution_count": 42,
   "metadata": {},
   "outputs": [],
   "source": [
    "df_categorical['no_renovation'] = np.where(df['yr_renovated'] > 0, 0, 1)"
   ]
  },
  {
   "cell_type": "code",
   "execution_count": 43,
   "metadata": {},
   "outputs": [],
   "source": [
    "df_categorical['no_view'] = np.where(df['view'] == 0, 1, 0)"
   ]
  },
  {
   "cell_type": "code",
   "execution_count": 44,
   "metadata": {},
   "outputs": [],
   "source": [
    "df_categorical['poor_view'] = np.where(df['view'] == 1, 1, 0)"
   ]
  },
  {
   "cell_type": "code",
   "execution_count": 45,
   "metadata": {},
   "outputs": [],
   "source": [
    "df_categorical['average_view'] = np.where(df['view'] == 2, 1, 0)"
   ]
  },
  {
   "cell_type": "code",
   "execution_count": 46,
   "metadata": {},
   "outputs": [],
   "source": [
    "df_categorical['good_view'] = np.where(df['view'] == 3, 1, 0)"
   ]
  },
  {
   "cell_type": "code",
   "execution_count": 47,
   "metadata": {},
   "outputs": [],
   "source": [
    "df_categorical['great_view'] = np.where(df['view'] == 4, 1, 0)"
   ]
  },
  {
   "cell_type": "code",
   "execution_count": 48,
   "metadata": {},
   "outputs": [],
   "source": [
    "df_categorical = df_categorical.drop(['view', 'sqft_basement', 'yr_renovated'], axis=1)"
   ]
  },
  {
   "cell_type": "markdown",
   "metadata": {},
   "source": [
    "### Transforming Continuous Features - Log Scaling"
   ]
  },
  {
   "cell_type": "code",
   "execution_count": 50,
   "metadata": {},
   "outputs": [],
   "source": [
    "df_numerical_log = df_numerical_features.copy(deep=True)\n",
    "df_numerical_log = df_numerical_log.drop(['sqft_basement'], axis=1)\n",
    "df_numerical_log[\"bedrooms\"] = np.log(df_numerical_log[\"bedrooms\"])\n",
    "df_numerical_log[\"bathrooms\"] = np.log(df_numerical_log[\"bathrooms\"])\n",
    "df_numerical_log[\"floors\"] = np.log(df_numerical_log[\"floors\"])\n",
    "df_numerical_log[\"sqft_living\"] = np.log(df_numerical_log[\"sqft_living\"])\n",
    "df_numerical_log[\"sqft_lot\"] = np.log(df_numerical_log[\"sqft_lot\"])\n",
    "df_numerical_log[\"sqft_living15\"] = np.log(df_numerical_log[\"sqft_living15\"])\n",
    "df_numerical_log[\"sqft_lot15\"] = np.log(df_numerical_log[\"sqft_lot15\"])\n",
    "df_numerical_log[\"price\"] = np.log(df_numerical_log[\"price\"])"
   ]
  },
  {
   "cell_type": "markdown",
   "metadata": {},
   "source": [
    "# 4. Fit an Initial Model"
   ]
  },
  {
   "cell_type": "markdown",
   "metadata": {},
   "source": [
    "## Linear Regression - Ordinary Least Squares - Statsmodels Round 1"
   ]
  },
  {
   "cell_type": "markdown",
   "metadata": {},
   "source": [
    "### Pre-Transformation"
   ]
  },
  {
   "cell_type": "code",
   "execution_count": 51,
   "metadata": {
    "collapsed": true
   },
   "outputs": [
    {
     "name": "stdout",
     "output_type": "stream",
     "text": [
      "King County House Sales: price~price\n",
      "------------------------------\n",
      "['price', 1.0, 1.1641532182693481e-10, 0.9999999999999996, 0.0]\n",
      "King County House Sales: price~bedrooms\n",
      "------------------------------\n",
      "['bedrooms', 0.019260542143895387, 307662.1377344114, 20298.785425744474, 3.6961107450261725e-55]\n",
      "King County House Sales: price~bathrooms\n",
      "------------------------------\n",
      "['bathrooms', 0.0813251135840165, 275310.84939350036, 51395.33069814949, 4.258745610272191e-234]\n",
      "King County House Sales: price~sqft_living\n",
      "------------------------------\n",
      "['sqft_living', 0.12511011063219424, 242483.0582565594, 78.16928820269904, 0.0]\n",
      "King County House Sales: price~sqft_lot\n",
      "------------------------------\n",
      "['sqft_lot', 0.026315356364481457, 413290.6210751005, -6.191226343674997, 5.950197134795679e-75]\n",
      "King County House Sales: price~floors\n",
      "------------------------------\n",
      "['floors', 0.03944851551897954, 311511.970613314, 42339.07401875689, 3.818050018984946e-112]\n",
      "King County House Sales: price~sqft_above\n",
      "------------------------------\n",
      "['sqft_above', 0.058349648692264555, 290588.0632731755, 56.09741512964005, 1.5679827455797298e-166]\n",
      "King County House Sales: price~sqft_basement\n",
      "------------------------------\n",
      "['sqft_basement', 0.037137112601441036, 357463.6083938953, 66.27443755134306, 1.4520013787943328e-105]\n",
      "King County House Sales: price~sqft_living15\n",
      "------------------------------\n",
      "['sqft_living15', 0.10500455780555784, 224693.08284754812, 87.15193921287366, 1.6666855104888037e-305]\n",
      "King County House Sales: price~sqft_lot15\n",
      "------------------------------\n",
      "['sqft_lot15', 0.02870323299287203, 418578.5577079131, -6.981581887264413, 1.1134338008873575e-81]\n"
     ]
    }
   ],
   "source": [
    "import statsmodels.api as sm\n",
    "import statsmodels.formula.api as smf\n",
    "\n",
    "col_names = df_numerical_features\n",
    "results = [['ind_var', 'r_squared', 'intercept', 'slope', 'p-value' ]]\n",
    "for idx, val in enumerate(col_names):\n",
    "    print (\"King County House Sales: price~\" + val)\n",
    "    print (\"------------------------------\")\n",
    "\n",
    "    f = 'price~' + val\n",
    "    model = smf.ols(formula=f, data=df_numerical_features).fit()\n",
    "    X_new = pd.DataFrame({val: [df_numerical_features[val].min(), df_numerical_features[val].max()]});\n",
    "    preds = model.predict(X_new)\n",
    "    results.append([val, model.rsquared, model.params[0], model.params[1], model.pvalues[1] ])\n",
    "    print(results[idx+1])"
   ]
  },
  {
   "cell_type": "code",
   "execution_count": 52,
   "metadata": {},
   "outputs": [
    {
     "data": {
      "text/html": [
       "<div>\n",
       "<style scoped>\n",
       "    .dataframe tbody tr th:only-of-type {\n",
       "        vertical-align: middle;\n",
       "    }\n",
       "\n",
       "    .dataframe tbody tr th {\n",
       "        vertical-align: top;\n",
       "    }\n",
       "\n",
       "    .dataframe thead th {\n",
       "        text-align: right;\n",
       "    }\n",
       "</style>\n",
       "<table border=\"1\" class=\"dataframe\">\n",
       "  <thead>\n",
       "    <tr style=\"text-align: right;\">\n",
       "      <th></th>\n",
       "      <th>0</th>\n",
       "      <th>1</th>\n",
       "      <th>2</th>\n",
       "      <th>3</th>\n",
       "      <th>4</th>\n",
       "    </tr>\n",
       "  </thead>\n",
       "  <tbody>\n",
       "    <tr>\n",
       "      <th>0</th>\n",
       "      <td>ind_var</td>\n",
       "      <td>r_squared</td>\n",
       "      <td>intercept</td>\n",
       "      <td>slope</td>\n",
       "      <td>p-value</td>\n",
       "    </tr>\n",
       "    <tr>\n",
       "      <th>1</th>\n",
       "      <td>price</td>\n",
       "      <td>1</td>\n",
       "      <td>1.16415e-10</td>\n",
       "      <td>1</td>\n",
       "      <td>0</td>\n",
       "    </tr>\n",
       "    <tr>\n",
       "      <th>2</th>\n",
       "      <td>bedrooms</td>\n",
       "      <td>0.0192605</td>\n",
       "      <td>307662</td>\n",
       "      <td>20298.8</td>\n",
       "      <td>3.69611e-55</td>\n",
       "    </tr>\n",
       "    <tr>\n",
       "      <th>3</th>\n",
       "      <td>bathrooms</td>\n",
       "      <td>0.0813251</td>\n",
       "      <td>275311</td>\n",
       "      <td>51395.3</td>\n",
       "      <td>4.25875e-234</td>\n",
       "    </tr>\n",
       "    <tr>\n",
       "      <th>4</th>\n",
       "      <td>sqft_living</td>\n",
       "      <td>0.12511</td>\n",
       "      <td>242483</td>\n",
       "      <td>78.1693</td>\n",
       "      <td>0</td>\n",
       "    </tr>\n",
       "    <tr>\n",
       "      <th>5</th>\n",
       "      <td>sqft_lot</td>\n",
       "      <td>0.0263154</td>\n",
       "      <td>413291</td>\n",
       "      <td>-6.19123</td>\n",
       "      <td>5.9502e-75</td>\n",
       "    </tr>\n",
       "    <tr>\n",
       "      <th>6</th>\n",
       "      <td>floors</td>\n",
       "      <td>0.0394485</td>\n",
       "      <td>311512</td>\n",
       "      <td>42339.1</td>\n",
       "      <td>3.81805e-112</td>\n",
       "    </tr>\n",
       "    <tr>\n",
       "      <th>7</th>\n",
       "      <td>sqft_above</td>\n",
       "      <td>0.0583496</td>\n",
       "      <td>290588</td>\n",
       "      <td>56.0974</td>\n",
       "      <td>1.56798e-166</td>\n",
       "    </tr>\n",
       "    <tr>\n",
       "      <th>8</th>\n",
       "      <td>sqft_basement</td>\n",
       "      <td>0.0371371</td>\n",
       "      <td>357464</td>\n",
       "      <td>66.2744</td>\n",
       "      <td>1.452e-105</td>\n",
       "    </tr>\n",
       "    <tr>\n",
       "      <th>9</th>\n",
       "      <td>sqft_living15</td>\n",
       "      <td>0.105005</td>\n",
       "      <td>224693</td>\n",
       "      <td>87.1519</td>\n",
       "      <td>1.66669e-305</td>\n",
       "    </tr>\n",
       "    <tr>\n",
       "      <th>10</th>\n",
       "      <td>sqft_lot15</td>\n",
       "      <td>0.0287032</td>\n",
       "      <td>418579</td>\n",
       "      <td>-6.98158</td>\n",
       "      <td>1.11343e-81</td>\n",
       "    </tr>\n",
       "  </tbody>\n",
       "</table>\n",
       "</div>"
      ],
      "text/plain": [
       "                0          1            2        3             4\n",
       "0         ind_var  r_squared    intercept    slope       p-value\n",
       "1           price          1  1.16415e-10        1             0\n",
       "2        bedrooms  0.0192605       307662  20298.8   3.69611e-55\n",
       "3       bathrooms  0.0813251       275311  51395.3  4.25875e-234\n",
       "4     sqft_living    0.12511       242483  78.1693             0\n",
       "5        sqft_lot  0.0263154       413291 -6.19123    5.9502e-75\n",
       "6          floors  0.0394485       311512  42339.1  3.81805e-112\n",
       "7      sqft_above  0.0583496       290588  56.0974  1.56798e-166\n",
       "8   sqft_basement  0.0371371       357464  66.2744    1.452e-105\n",
       "9   sqft_living15   0.105005       224693  87.1519  1.66669e-305\n",
       "10     sqft_lot15  0.0287032       418579 -6.98158   1.11343e-81"
      ]
     },
     "execution_count": 52,
     "metadata": {},
     "output_type": "execute_result"
    }
   ],
   "source": [
    "pd.DataFrame(results)"
   ]
  },
  {
   "cell_type": "markdown",
   "metadata": {},
   "source": [
    "### Log Scale Transformation"
   ]
  },
  {
   "cell_type": "code",
   "execution_count": 53,
   "metadata": {
    "collapsed": true
   },
   "outputs": [
    {
     "name": "stdout",
     "output_type": "stream",
     "text": [
      "King County House Sales: Price~price\n",
      "------------------------------\n",
      "['price', 1.0, 2.6645352591003757e-15, 1.0, 0.0]\n",
      "King County House Sales: Price~bedrooms\n",
      "------------------------------\n",
      "['bedrooms', 0.024317848393658914, 12.558194268138472, 0.19259092484621257, 2.46179880327127e-69]\n",
      "King County House Sales: Price~bathrooms\n",
      "------------------------------\n",
      "['bathrooms', 0.09899262424832878, 12.613847355359267, 0.2823570218407938, 3.367552499711304e-287]\n",
      "King County House Sales: Price~sqft_living\n",
      "------------------------------\n",
      "['sqft_living', 0.14604898605415995, 9.93225101690603, 0.38608653467113757, 0.0]\n",
      "King County House Sales: Price~sqft_lot\n",
      "------------------------------\n",
      "['sqft_lot', 0.02829868216624931, 13.591500272163358, -0.09444617592305193, 1.5400627040389467e-80]\n",
      "King County House Sales: Price~floors\n",
      "------------------------------\n",
      "['floors', 0.046706760803867264, 12.713165441307922, 0.2084617110886975, 6.610806808485581e-133]\n",
      "King County House Sales: Price~sqft_above\n",
      "------------------------------\n",
      "['sqft_above', 0.06722173456928593, 12.518239105026769, 0.0001760776249358448, 1.989410035200542e-192]\n",
      "King County House Sales: Price~sqft_living15\n",
      "------------------------------\n",
      "['sqft_living15', 0.12196778363947025, 9.3452872162522, 0.46327946308979634, 0.0]\n",
      "King County House Sales: Price~sqft_lot15\n",
      "------------------------------\n",
      "['sqft_lot15', 0.02984575951912849, 13.691689675385955, -0.10575082514910261, 6.64187027926567e-85]\n"
     ]
    }
   ],
   "source": [
    "col_names = df_numerical_log\n",
    "results = [['ind_var', 'r_squared', 'intercept', 'slope', 'p-value' ]]\n",
    "for idx, val in enumerate(col_names):\n",
    "    print (\"King County House Sales: Price~\" + val)\n",
    "    print (\"------------------------------\")\n",
    "\n",
    "    f = 'price~' + val\n",
    "    model = smf.ols(formula=f, data=df_numerical_log).fit()\n",
    "    X_new = pd.DataFrame({val: [df_numerical_log[val].min(), df_numerical_log[val].max()]});\n",
    "    preds = model.predict(X_new)\n",
    "    results.append([val, model.rsquared, model.params[0], model.params[1], model.pvalues[1] ])\n",
    "    print(results[idx+1])"
   ]
  },
  {
   "cell_type": "code",
   "execution_count": 54,
   "metadata": {},
   "outputs": [
    {
     "data": {
      "text/html": [
       "<div>\n",
       "<style scoped>\n",
       "    .dataframe tbody tr th:only-of-type {\n",
       "        vertical-align: middle;\n",
       "    }\n",
       "\n",
       "    .dataframe tbody tr th {\n",
       "        vertical-align: top;\n",
       "    }\n",
       "\n",
       "    .dataframe thead th {\n",
       "        text-align: right;\n",
       "    }\n",
       "</style>\n",
       "<table border=\"1\" class=\"dataframe\">\n",
       "  <thead>\n",
       "    <tr style=\"text-align: right;\">\n",
       "      <th></th>\n",
       "      <th>0</th>\n",
       "      <th>1</th>\n",
       "      <th>2</th>\n",
       "      <th>3</th>\n",
       "      <th>4</th>\n",
       "    </tr>\n",
       "  </thead>\n",
       "  <tbody>\n",
       "    <tr>\n",
       "      <th>0</th>\n",
       "      <td>ind_var</td>\n",
       "      <td>r_squared</td>\n",
       "      <td>intercept</td>\n",
       "      <td>slope</td>\n",
       "      <td>p-value</td>\n",
       "    </tr>\n",
       "    <tr>\n",
       "      <th>1</th>\n",
       "      <td>price</td>\n",
       "      <td>1</td>\n",
       "      <td>2.66454e-15</td>\n",
       "      <td>1</td>\n",
       "      <td>0</td>\n",
       "    </tr>\n",
       "    <tr>\n",
       "      <th>2</th>\n",
       "      <td>bedrooms</td>\n",
       "      <td>0.0243178</td>\n",
       "      <td>12.5582</td>\n",
       "      <td>0.192591</td>\n",
       "      <td>2.4618e-69</td>\n",
       "    </tr>\n",
       "    <tr>\n",
       "      <th>3</th>\n",
       "      <td>bathrooms</td>\n",
       "      <td>0.0989926</td>\n",
       "      <td>12.6138</td>\n",
       "      <td>0.282357</td>\n",
       "      <td>3.36755e-287</td>\n",
       "    </tr>\n",
       "    <tr>\n",
       "      <th>4</th>\n",
       "      <td>sqft_living</td>\n",
       "      <td>0.146049</td>\n",
       "      <td>9.93225</td>\n",
       "      <td>0.386087</td>\n",
       "      <td>0</td>\n",
       "    </tr>\n",
       "    <tr>\n",
       "      <th>5</th>\n",
       "      <td>sqft_lot</td>\n",
       "      <td>0.0282987</td>\n",
       "      <td>13.5915</td>\n",
       "      <td>-0.0944462</td>\n",
       "      <td>1.54006e-80</td>\n",
       "    </tr>\n",
       "    <tr>\n",
       "      <th>6</th>\n",
       "      <td>floors</td>\n",
       "      <td>0.0467068</td>\n",
       "      <td>12.7132</td>\n",
       "      <td>0.208462</td>\n",
       "      <td>6.61081e-133</td>\n",
       "    </tr>\n",
       "    <tr>\n",
       "      <th>7</th>\n",
       "      <td>sqft_above</td>\n",
       "      <td>0.0672217</td>\n",
       "      <td>12.5182</td>\n",
       "      <td>0.000176078</td>\n",
       "      <td>1.98941e-192</td>\n",
       "    </tr>\n",
       "    <tr>\n",
       "      <th>8</th>\n",
       "      <td>sqft_living15</td>\n",
       "      <td>0.121968</td>\n",
       "      <td>9.34529</td>\n",
       "      <td>0.463279</td>\n",
       "      <td>0</td>\n",
       "    </tr>\n",
       "    <tr>\n",
       "      <th>9</th>\n",
       "      <td>sqft_lot15</td>\n",
       "      <td>0.0298458</td>\n",
       "      <td>13.6917</td>\n",
       "      <td>-0.105751</td>\n",
       "      <td>6.64187e-85</td>\n",
       "    </tr>\n",
       "  </tbody>\n",
       "</table>\n",
       "</div>"
      ],
      "text/plain": [
       "               0          1            2            3             4\n",
       "0        ind_var  r_squared    intercept        slope       p-value\n",
       "1          price          1  2.66454e-15            1             0\n",
       "2       bedrooms  0.0243178      12.5582     0.192591    2.4618e-69\n",
       "3      bathrooms  0.0989926      12.6138     0.282357  3.36755e-287\n",
       "4    sqft_living   0.146049      9.93225     0.386087             0\n",
       "5       sqft_lot  0.0282987      13.5915   -0.0944462   1.54006e-80\n",
       "6         floors  0.0467068      12.7132     0.208462  6.61081e-133\n",
       "7     sqft_above  0.0672217      12.5182  0.000176078  1.98941e-192\n",
       "8  sqft_living15   0.121968      9.34529     0.463279             0\n",
       "9     sqft_lot15  0.0298458      13.6917    -0.105751   6.64187e-85"
      ]
     },
     "execution_count": 54,
     "metadata": {},
     "output_type": "execute_result"
    }
   ],
   "source": [
    "pd.DataFrame(results)"
   ]
  },
  {
   "cell_type": "markdown",
   "metadata": {},
   "source": [
    "### Analysis after an iteration of OLS\n",
    "\n",
    "Sqft_living and sqft_living15 have exceptionally higher r-squared coefficients than the other features\n",
    "\n",
    "Summary: A second important piece of evidence that both are candidates for removal (along with evidence of multicollinearity from heat map). At this point, I will make the decision to remove both features."
   ]
  },
  {
   "cell_type": "markdown",
   "metadata": {},
   "source": [
    "## OLS Round 2"
   ]
  },
  {
   "cell_type": "code",
   "execution_count": 55,
   "metadata": {},
   "outputs": [],
   "source": [
    "df_numerical_log_2 = df_numerical_log.copy(deep=True)"
   ]
  },
  {
   "cell_type": "code",
   "execution_count": 56,
   "metadata": {},
   "outputs": [],
   "source": [
    "df_numerical_log_2 = df_numerical_log_2.drop(['sqft_living', 'sqft_living15'], axis=1)"
   ]
  },
  {
   "cell_type": "code",
   "execution_count": 57,
   "metadata": {
    "collapsed": true
   },
   "outputs": [
    {
     "name": "stdout",
     "output_type": "stream",
     "text": [
      "King County House Sales: Price~price\n",
      "------------------------------\n",
      "['price', 1.0, 2.6645352591003757e-15, 1.0, 0.0]\n",
      "King County House Sales: Price~bedrooms\n",
      "------------------------------\n",
      "['bedrooms', 0.024317848393658914, 12.558194268138472, 0.19259092484621257, 2.46179880327127e-69]\n",
      "King County House Sales: Price~bathrooms\n",
      "------------------------------\n",
      "['bathrooms', 0.09899262424832878, 12.613847355359267, 0.2823570218407938, 3.367552499711304e-287]\n",
      "King County House Sales: Price~sqft_lot\n",
      "------------------------------\n",
      "['sqft_lot', 0.02829868216624931, 13.591500272163358, -0.09444617592305193, 1.5400627040389467e-80]\n",
      "King County House Sales: Price~floors\n",
      "------------------------------\n",
      "['floors', 0.046706760803867264, 12.713165441307922, 0.2084617110886975, 6.610806808485581e-133]\n",
      "King County House Sales: Price~sqft_above\n",
      "------------------------------\n",
      "['sqft_above', 0.06722173456928593, 12.518239105026769, 0.0001760776249358448, 1.989410035200542e-192]\n",
      "King County House Sales: Price~sqft_lot15\n",
      "------------------------------\n",
      "['sqft_lot15', 0.02984575951912849, 13.691689675385955, -0.10575082514910261, 6.64187027926567e-85]\n"
     ]
    }
   ],
   "source": [
    "col_names = df_numerical_log_2\n",
    "results = [['ind_var', 'r_squared', 'intercept', 'slope', 'p-value' ]]\n",
    "for idx, val in enumerate(col_names):\n",
    "    print (\"King County House Sales: Price~\" + val)\n",
    "    print (\"------------------------------\")\n",
    "\n",
    "    f = 'price~' + val\n",
    "    model = smf.ols(formula=f, data=df_numerical_log_2).fit()\n",
    "    X_new = pd.DataFrame({val: [df_numerical_log_2[val].min(), df_numerical_log_2[val].max()]});\n",
    "    preds = model.predict(X_new)\n",
    "    results.append([val, model.rsquared, model.params[0], model.params[1], model.pvalues[1] ])\n",
    "    print(results[idx+1])"
   ]
  },
  {
   "cell_type": "code",
   "execution_count": 58,
   "metadata": {},
   "outputs": [
    {
     "data": {
      "text/html": [
       "<div>\n",
       "<style scoped>\n",
       "    .dataframe tbody tr th:only-of-type {\n",
       "        vertical-align: middle;\n",
       "    }\n",
       "\n",
       "    .dataframe tbody tr th {\n",
       "        vertical-align: top;\n",
       "    }\n",
       "\n",
       "    .dataframe thead th {\n",
       "        text-align: right;\n",
       "    }\n",
       "</style>\n",
       "<table border=\"1\" class=\"dataframe\">\n",
       "  <thead>\n",
       "    <tr style=\"text-align: right;\">\n",
       "      <th></th>\n",
       "      <th>0</th>\n",
       "      <th>1</th>\n",
       "      <th>2</th>\n",
       "      <th>3</th>\n",
       "      <th>4</th>\n",
       "    </tr>\n",
       "  </thead>\n",
       "  <tbody>\n",
       "    <tr>\n",
       "      <th>0</th>\n",
       "      <td>ind_var</td>\n",
       "      <td>r_squared</td>\n",
       "      <td>intercept</td>\n",
       "      <td>slope</td>\n",
       "      <td>p-value</td>\n",
       "    </tr>\n",
       "    <tr>\n",
       "      <th>1</th>\n",
       "      <td>price</td>\n",
       "      <td>1</td>\n",
       "      <td>2.66454e-15</td>\n",
       "      <td>1</td>\n",
       "      <td>0</td>\n",
       "    </tr>\n",
       "    <tr>\n",
       "      <th>2</th>\n",
       "      <td>bedrooms</td>\n",
       "      <td>0.0243178</td>\n",
       "      <td>12.5582</td>\n",
       "      <td>0.192591</td>\n",
       "      <td>2.4618e-69</td>\n",
       "    </tr>\n",
       "    <tr>\n",
       "      <th>3</th>\n",
       "      <td>bathrooms</td>\n",
       "      <td>0.0989926</td>\n",
       "      <td>12.6138</td>\n",
       "      <td>0.282357</td>\n",
       "      <td>3.36755e-287</td>\n",
       "    </tr>\n",
       "    <tr>\n",
       "      <th>4</th>\n",
       "      <td>sqft_lot</td>\n",
       "      <td>0.0282987</td>\n",
       "      <td>13.5915</td>\n",
       "      <td>-0.0944462</td>\n",
       "      <td>1.54006e-80</td>\n",
       "    </tr>\n",
       "    <tr>\n",
       "      <th>5</th>\n",
       "      <td>floors</td>\n",
       "      <td>0.0467068</td>\n",
       "      <td>12.7132</td>\n",
       "      <td>0.208462</td>\n",
       "      <td>6.61081e-133</td>\n",
       "    </tr>\n",
       "    <tr>\n",
       "      <th>6</th>\n",
       "      <td>sqft_above</td>\n",
       "      <td>0.0672217</td>\n",
       "      <td>12.5182</td>\n",
       "      <td>0.000176078</td>\n",
       "      <td>1.98941e-192</td>\n",
       "    </tr>\n",
       "    <tr>\n",
       "      <th>7</th>\n",
       "      <td>sqft_lot15</td>\n",
       "      <td>0.0298458</td>\n",
       "      <td>13.6917</td>\n",
       "      <td>-0.105751</td>\n",
       "      <td>6.64187e-85</td>\n",
       "    </tr>\n",
       "  </tbody>\n",
       "</table>\n",
       "</div>"
      ],
      "text/plain": [
       "            0          1            2            3             4\n",
       "0     ind_var  r_squared    intercept        slope       p-value\n",
       "1       price          1  2.66454e-15            1             0\n",
       "2    bedrooms  0.0243178      12.5582     0.192591    2.4618e-69\n",
       "3   bathrooms  0.0989926      12.6138     0.282357  3.36755e-287\n",
       "4    sqft_lot  0.0282987      13.5915   -0.0944462   1.54006e-80\n",
       "5      floors  0.0467068      12.7132     0.208462  6.61081e-133\n",
       "6  sqft_above  0.0672217      12.5182  0.000176078  1.98941e-192\n",
       "7  sqft_lot15  0.0298458      13.6917    -0.105751   6.64187e-85"
      ]
     },
     "execution_count": 58,
     "metadata": {},
     "output_type": "execute_result"
    }
   ],
   "source": [
    "pd.DataFrame(results)"
   ]
  },
  {
   "cell_type": "markdown",
   "metadata": {},
   "source": [
    "### Analysis - second iteration of OLS\n",
    "\n",
    "Feature Assessment\n",
    "So far, I have only removed id, sqft_living, and sqft_living15\n",
    "\n",
    "Now, I have enough evidence to remove additional features that do not meet the necessary conditions.\n",
    "\n",
    "#### Removing\n",
    " - floors\n",
    " - sqft_lot \n",
    " - bathrooms\n",
    "\n",
    "#### Why?\n",
    "- High correlation between floors and sqft_lot\n",
    "- Bathrooms does not fit a normal distribution and has higher r-squared than other features in OLS"
   ]
  },
  {
   "cell_type": "code",
   "execution_count": 59,
   "metadata": {},
   "outputs": [],
   "source": [
    "df_numerical_log_3 = df_numerical_log_2.drop(['sqft_lot', 'floors', 'bathrooms'], axis=1)"
   ]
  },
  {
   "cell_type": "code",
   "execution_count": 60,
   "metadata": {
    "collapsed": true
   },
   "outputs": [
    {
     "name": "stdout",
     "output_type": "stream",
     "text": [
      "King County House Sales: Price~price\n",
      "------------------------------\n",
      "['price', 1.0, 2.6645352591003757e-15, 1.0, 0.0]\n",
      "King County House Sales: Price~bedrooms\n",
      "------------------------------\n",
      "['bedrooms', 0.024317848393658914, 12.558194268138472, 0.19259092484621257, 2.46179880327127e-69]\n",
      "King County House Sales: Price~sqft_above\n",
      "------------------------------\n",
      "['sqft_above', 0.06722173456928593, 12.518239105026769, 0.0001760776249358448, 1.989410035200542e-192]\n",
      "King County House Sales: Price~sqft_lot15\n",
      "------------------------------\n",
      "['sqft_lot15', 0.02984575951912849, 13.691689675385955, -0.10575082514910261, 6.64187027926567e-85]\n"
     ]
    }
   ],
   "source": [
    "col_names = df_numerical_log_3\n",
    "results = [['ind_var', 'r_squared', 'intercept', 'slope', 'p-value' ]]\n",
    "for idx, val in enumerate(col_names):\n",
    "    print (\"King County House Sales: Price~\" + val)\n",
    "    print (\"------------------------------\")\n",
    "\n",
    "    f = 'price~' + val\n",
    "    model = smf.ols(formula=f, data=df_numerical_log_3).fit()\n",
    "    X_new = pd.DataFrame({val: [df_numerical_log_3[val].min(), df_numerical_log_3[val].max()]});\n",
    "    preds = model.predict(X_new)\n",
    "    results.append([val, model.rsquared, model.params[0], model.params[1], model.pvalues[1] ])\n",
    "    print(results[idx+1])"
   ]
  },
  {
   "cell_type": "code",
   "execution_count": 61,
   "metadata": {},
   "outputs": [
    {
     "data": {
      "text/html": [
       "<div>\n",
       "<style scoped>\n",
       "    .dataframe tbody tr th:only-of-type {\n",
       "        vertical-align: middle;\n",
       "    }\n",
       "\n",
       "    .dataframe tbody tr th {\n",
       "        vertical-align: top;\n",
       "    }\n",
       "\n",
       "    .dataframe thead th {\n",
       "        text-align: right;\n",
       "    }\n",
       "</style>\n",
       "<table border=\"1\" class=\"dataframe\">\n",
       "  <thead>\n",
       "    <tr style=\"text-align: right;\">\n",
       "      <th></th>\n",
       "      <th>0</th>\n",
       "      <th>1</th>\n",
       "      <th>2</th>\n",
       "      <th>3</th>\n",
       "      <th>4</th>\n",
       "    </tr>\n",
       "  </thead>\n",
       "  <tbody>\n",
       "    <tr>\n",
       "      <th>0</th>\n",
       "      <td>ind_var</td>\n",
       "      <td>r_squared</td>\n",
       "      <td>intercept</td>\n",
       "      <td>slope</td>\n",
       "      <td>p-value</td>\n",
       "    </tr>\n",
       "    <tr>\n",
       "      <th>1</th>\n",
       "      <td>price</td>\n",
       "      <td>1</td>\n",
       "      <td>2.66454e-15</td>\n",
       "      <td>1</td>\n",
       "      <td>0</td>\n",
       "    </tr>\n",
       "    <tr>\n",
       "      <th>2</th>\n",
       "      <td>bedrooms</td>\n",
       "      <td>0.0243178</td>\n",
       "      <td>12.5582</td>\n",
       "      <td>0.192591</td>\n",
       "      <td>2.4618e-69</td>\n",
       "    </tr>\n",
       "    <tr>\n",
       "      <th>3</th>\n",
       "      <td>sqft_above</td>\n",
       "      <td>0.0672217</td>\n",
       "      <td>12.5182</td>\n",
       "      <td>0.000176078</td>\n",
       "      <td>1.98941e-192</td>\n",
       "    </tr>\n",
       "    <tr>\n",
       "      <th>4</th>\n",
       "      <td>sqft_lot15</td>\n",
       "      <td>0.0298458</td>\n",
       "      <td>13.6917</td>\n",
       "      <td>-0.105751</td>\n",
       "      <td>6.64187e-85</td>\n",
       "    </tr>\n",
       "  </tbody>\n",
       "</table>\n",
       "</div>"
      ],
      "text/plain": [
       "            0          1            2            3             4\n",
       "0     ind_var  r_squared    intercept        slope       p-value\n",
       "1       price          1  2.66454e-15            1             0\n",
       "2    bedrooms  0.0243178      12.5582     0.192591    2.4618e-69\n",
       "3  sqft_above  0.0672217      12.5182  0.000176078  1.98941e-192\n",
       "4  sqft_lot15  0.0298458      13.6917    -0.105751   6.64187e-85"
      ]
     },
     "execution_count": 61,
     "metadata": {},
     "output_type": "execute_result"
    }
   ],
   "source": [
    "pd.DataFrame(results)"
   ]
  },
  {
   "cell_type": "markdown",
   "metadata": {},
   "source": [
    "#### Analysis\n",
    "\n",
    "I am happy with the remaining features, satisfied with the p-values < 0.05 and no outlier r-squared values.\n",
    "\n",
    "- bedrooms\n",
    "- sqft_above\n",
    "- sqft_lot15\n",
    "\n",
    "DataFrame - df_numerical_log_3"
   ]
  },
  {
   "cell_type": "markdown",
   "metadata": {},
   "source": [
    "### Categorical Variables"
   ]
  },
  {
   "cell_type": "code",
   "execution_count": 62,
   "metadata": {
    "collapsed": true
   },
   "outputs": [
    {
     "name": "stdout",
     "output_type": "stream",
     "text": [
      "King County House Sales: Price~date\n",
      "------------------------------\n",
      "['date', 0.0347551837489104, 324999.9999999694, 24908.695652205235, 0.8320620755798283]\n",
      "King County House Sales: Price~price\n",
      "------------------------------\n",
      "['price', 1.0, 1.1641532182693481e-10, 0.9999999999999996, 0.0]\n",
      "King County House Sales: Price~waterfront\n",
      "------------------------------\n",
      "['waterfront', 0.0004931939428911569, 371272.55138701206, 143702.44861299137, 0.012723577476240757]\n",
      "King County House Sales: Price~condition\n",
      "------------------------------\n",
      "['condition', 1.8270343915549603e-07, 371055.0641166819, 77.64722508508203, 0.9617588855511557]\n",
      "King County House Sales: Price~grade\n",
      "------------------------------\n",
      "['grade', 0.1726988748764151, -76435.61130660085, 62488.711378787826, 0.0]\n",
      "King County House Sales: Price~yr_built\n",
      "------------------------------\n",
      "['yr_built', 0.0005390806005698412, 187823.2403228979, 93.16401502125404, 0.009193678329614161]\n",
      "King County House Sales: Price~zipcode\n",
      "------------------------------\n",
      "['zipcode', 0.0029434024474079834, -10845398.810864557, 114.35935431453657, 1.128022343675845e-09]\n",
      "King County House Sales: Price~lat\n",
      "------------------------------\n",
      "['lat', 0.3052232042086146, -20212051.80945712, 432931.6305669313, 0.0]\n",
      "King County House Sales: Price~long\n",
      "------------------------------\n",
      "['long', 8.278136815698112e-06, 681194.5098513346, 2535.1062593876886, 0.7468933529375]\n",
      "King County House Sales: Price~basement\n",
      "------------------------------\n",
      "['basement', 0.03922724604614913, 354595.1055650476, 47929.96252878106, 1.6308122509555243e-111]\n",
      "King County House Sales: Price~no_basement\n",
      "------------------------------\n",
      "['no_basement', 0.039227246046149356, 402525.0680938283, -47929.96252878106, 1.6308122509553386e-111]\n",
      "King County House Sales: Price~renovation\n",
      "------------------------------\n",
      "['renovation', 0.0012302628955007666, 370714.67005117366, 27721.70221160072, 8.297305217467033e-05]\n",
      "King County House Sales: Price~no_renovation\n",
      "------------------------------\n",
      "['no_renovation', 0.0012302628955005446, 398436.37226277264, -27721.702211597927, 8.297305217480639e-05]\n",
      "King County House Sales: Price~no_view\n",
      "------------------------------\n",
      "['no_view', 0.011247295120830003, 434987.56919642526, -66019.50146964313, 8.273711872268549e-33]\n",
      "King County House Sales: Price~poor_view\n",
      "------------------------------\n",
      "['poor_view', 0.0020976545414298498, 370855.0683801744, 60717.014953157166, 2.744740810437175e-07]\n",
      "King County House Sales: Price~average_view\n",
      "------------------------------\n",
      "['average_view', 0.005768439487087718, 370045.85963488853, 61587.40574972861, 1.440931638735354e-17]\n",
      "King County House Sales: Price~good_view\n",
      "------------------------------\n",
      "['good_view', 0.0025852204176767257, 370852.11090676463, 74253.83846032326, 1.149370751927989e-08]\n",
      "King County House Sales: Price~great_view\n",
      "------------------------------\n",
      "['great_view', 0.0006939382116466497, 371220.51996500173, 94586.55695807695, 0.003122434658336281]\n"
     ]
    }
   ],
   "source": [
    "import statsmodels.api as sm\n",
    "import statsmodels.formula.api as smf\n",
    "import scipy.stats as stats\n",
    "import statsmodels.stats.api as sms\n",
    "\n",
    "col_names = df_categorical.columns\n",
    "results = [['ind_var', 'r_squared', 'intercept', 'slope', 'p-value' ]]\n",
    "for idx, val in enumerate(col_names):\n",
    "    print (\"King County House Sales: Price~\" + val)\n",
    "    print (\"------------------------------\")\n",
    "\n",
    "    f = 'price~' + val\n",
    "    model = smf.ols(formula=f, data=df_categorical).fit()\n",
    "    X_new = pd.DataFrame({val: [df_categorical[val].min(), df_categorical[val].max()]});\n",
    "    preds = model.predict(X_new)\n",
    "    results.append([val, model.rsquared, model.params[0], model.params[1], model.pvalues[1] ])\n",
    "    print(results[idx+1])"
   ]
  },
  {
   "cell_type": "code",
   "execution_count": 63,
   "metadata": {},
   "outputs": [
    {
     "data": {
      "text/html": [
       "<div>\n",
       "<style scoped>\n",
       "    .dataframe tbody tr th:only-of-type {\n",
       "        vertical-align: middle;\n",
       "    }\n",
       "\n",
       "    .dataframe tbody tr th {\n",
       "        vertical-align: top;\n",
       "    }\n",
       "\n",
       "    .dataframe thead th {\n",
       "        text-align: right;\n",
       "    }\n",
       "</style>\n",
       "<table border=\"1\" class=\"dataframe\">\n",
       "  <thead>\n",
       "    <tr style=\"text-align: right;\">\n",
       "      <th></th>\n",
       "      <th>0</th>\n",
       "      <th>1</th>\n",
       "      <th>2</th>\n",
       "      <th>3</th>\n",
       "      <th>4</th>\n",
       "    </tr>\n",
       "  </thead>\n",
       "  <tbody>\n",
       "    <tr>\n",
       "      <th>0</th>\n",
       "      <td>ind_var</td>\n",
       "      <td>r_squared</td>\n",
       "      <td>intercept</td>\n",
       "      <td>slope</td>\n",
       "      <td>p-value</td>\n",
       "    </tr>\n",
       "    <tr>\n",
       "      <th>1</th>\n",
       "      <td>date</td>\n",
       "      <td>0.0347552</td>\n",
       "      <td>325000</td>\n",
       "      <td>24908.7</td>\n",
       "      <td>0.832062</td>\n",
       "    </tr>\n",
       "    <tr>\n",
       "      <th>2</th>\n",
       "      <td>price</td>\n",
       "      <td>1</td>\n",
       "      <td>1.16415e-10</td>\n",
       "      <td>1</td>\n",
       "      <td>0</td>\n",
       "    </tr>\n",
       "    <tr>\n",
       "      <th>3</th>\n",
       "      <td>waterfront</td>\n",
       "      <td>0.000493194</td>\n",
       "      <td>371273</td>\n",
       "      <td>143702</td>\n",
       "      <td>0.0127236</td>\n",
       "    </tr>\n",
       "    <tr>\n",
       "      <th>4</th>\n",
       "      <td>condition</td>\n",
       "      <td>1.82703e-07</td>\n",
       "      <td>371055</td>\n",
       "      <td>77.6472</td>\n",
       "      <td>0.961759</td>\n",
       "    </tr>\n",
       "    <tr>\n",
       "      <th>5</th>\n",
       "      <td>grade</td>\n",
       "      <td>0.172699</td>\n",
       "      <td>-76435.6</td>\n",
       "      <td>62488.7</td>\n",
       "      <td>0</td>\n",
       "    </tr>\n",
       "    <tr>\n",
       "      <th>6</th>\n",
       "      <td>yr_built</td>\n",
       "      <td>0.000539081</td>\n",
       "      <td>187823</td>\n",
       "      <td>93.164</td>\n",
       "      <td>0.00919368</td>\n",
       "    </tr>\n",
       "    <tr>\n",
       "      <th>7</th>\n",
       "      <td>zipcode</td>\n",
       "      <td>0.0029434</td>\n",
       "      <td>-1.08454e+07</td>\n",
       "      <td>114.359</td>\n",
       "      <td>1.12802e-09</td>\n",
       "    </tr>\n",
       "    <tr>\n",
       "      <th>8</th>\n",
       "      <td>lat</td>\n",
       "      <td>0.305223</td>\n",
       "      <td>-2.02121e+07</td>\n",
       "      <td>432932</td>\n",
       "      <td>0</td>\n",
       "    </tr>\n",
       "    <tr>\n",
       "      <th>9</th>\n",
       "      <td>long</td>\n",
       "      <td>8.27814e-06</td>\n",
       "      <td>681195</td>\n",
       "      <td>2535.11</td>\n",
       "      <td>0.746893</td>\n",
       "    </tr>\n",
       "    <tr>\n",
       "      <th>10</th>\n",
       "      <td>basement</td>\n",
       "      <td>0.0392272</td>\n",
       "      <td>354595</td>\n",
       "      <td>47930</td>\n",
       "      <td>1.63081e-111</td>\n",
       "    </tr>\n",
       "    <tr>\n",
       "      <th>11</th>\n",
       "      <td>no_basement</td>\n",
       "      <td>0.0392272</td>\n",
       "      <td>402525</td>\n",
       "      <td>-47930</td>\n",
       "      <td>1.63081e-111</td>\n",
       "    </tr>\n",
       "    <tr>\n",
       "      <th>12</th>\n",
       "      <td>renovation</td>\n",
       "      <td>0.00123026</td>\n",
       "      <td>370715</td>\n",
       "      <td>27721.7</td>\n",
       "      <td>8.29731e-05</td>\n",
       "    </tr>\n",
       "    <tr>\n",
       "      <th>13</th>\n",
       "      <td>no_renovation</td>\n",
       "      <td>0.00123026</td>\n",
       "      <td>398436</td>\n",
       "      <td>-27721.7</td>\n",
       "      <td>8.29731e-05</td>\n",
       "    </tr>\n",
       "    <tr>\n",
       "      <th>14</th>\n",
       "      <td>no_view</td>\n",
       "      <td>0.0112473</td>\n",
       "      <td>434988</td>\n",
       "      <td>-66019.5</td>\n",
       "      <td>8.27371e-33</td>\n",
       "    </tr>\n",
       "    <tr>\n",
       "      <th>15</th>\n",
       "      <td>poor_view</td>\n",
       "      <td>0.00209765</td>\n",
       "      <td>370855</td>\n",
       "      <td>60717</td>\n",
       "      <td>2.74474e-07</td>\n",
       "    </tr>\n",
       "    <tr>\n",
       "      <th>16</th>\n",
       "      <td>average_view</td>\n",
       "      <td>0.00576844</td>\n",
       "      <td>370046</td>\n",
       "      <td>61587.4</td>\n",
       "      <td>1.44093e-17</td>\n",
       "    </tr>\n",
       "    <tr>\n",
       "      <th>17</th>\n",
       "      <td>good_view</td>\n",
       "      <td>0.00258522</td>\n",
       "      <td>370852</td>\n",
       "      <td>74253.8</td>\n",
       "      <td>1.14937e-08</td>\n",
       "    </tr>\n",
       "    <tr>\n",
       "      <th>18</th>\n",
       "      <td>great_view</td>\n",
       "      <td>0.000693938</td>\n",
       "      <td>371221</td>\n",
       "      <td>94586.6</td>\n",
       "      <td>0.00312243</td>\n",
       "    </tr>\n",
       "  </tbody>\n",
       "</table>\n",
       "</div>"
      ],
      "text/plain": [
       "                0            1            2        3             4\n",
       "0         ind_var    r_squared    intercept    slope       p-value\n",
       "1            date    0.0347552       325000  24908.7      0.832062\n",
       "2           price            1  1.16415e-10        1             0\n",
       "3      waterfront  0.000493194       371273   143702     0.0127236\n",
       "4       condition  1.82703e-07       371055  77.6472      0.961759\n",
       "5           grade     0.172699     -76435.6  62488.7             0\n",
       "6        yr_built  0.000539081       187823   93.164    0.00919368\n",
       "7         zipcode    0.0029434 -1.08454e+07  114.359   1.12802e-09\n",
       "8             lat     0.305223 -2.02121e+07   432932             0\n",
       "9            long  8.27814e-06       681195  2535.11      0.746893\n",
       "10       basement    0.0392272       354595    47930  1.63081e-111\n",
       "11    no_basement    0.0392272       402525   -47930  1.63081e-111\n",
       "12     renovation   0.00123026       370715  27721.7   8.29731e-05\n",
       "13  no_renovation   0.00123026       398436 -27721.7   8.29731e-05\n",
       "14        no_view    0.0112473       434988 -66019.5   8.27371e-33\n",
       "15      poor_view   0.00209765       370855    60717   2.74474e-07\n",
       "16   average_view   0.00576844       370046  61587.4   1.44093e-17\n",
       "17      good_view   0.00258522       370852  74253.8   1.14937e-08\n",
       "18     great_view  0.000693938       371221  94586.6    0.00312243"
      ]
     },
     "execution_count": 63,
     "metadata": {},
     "output_type": "execute_result"
    }
   ],
   "source": [
    "pd.DataFrame(results)"
   ]
  },
  {
   "cell_type": "markdown",
   "metadata": {},
   "source": [
    "### Post-Round of Elimination OLS"
   ]
  },
  {
   "cell_type": "code",
   "execution_count": 66,
   "metadata": {},
   "outputs": [],
   "source": [
    "df_numerical_log_3_features = df_numerical_log_3.drop('price', axis=1)"
   ]
  },
  {
   "cell_type": "code",
   "execution_count": 67,
   "metadata": {},
   "outputs": [
    {
     "data": {
      "text/html": [
       "<table class=\"simpletable\">\n",
       "<caption>OLS Regression Results</caption>\n",
       "<tr>\n",
       "  <th>Dep. Variable:</th>          <td>price</td>      <th>  R-squared:         </th> <td>   0.115</td>\n",
       "</tr>\n",
       "<tr>\n",
       "  <th>Model:</th>                   <td>OLS</td>       <th>  Adj. R-squared:    </th> <td>   0.115</td>\n",
       "</tr>\n",
       "<tr>\n",
       "  <th>Method:</th>             <td>Least Squares</td>  <th>  F-statistic:       </th> <td>   547.0</td>\n",
       "</tr>\n",
       "<tr>\n",
       "  <th>Date:</th>             <td>Tue, 12 Mar 2019</td> <th>  Prob (F-statistic):</th>  <td>  0.00</td> \n",
       "</tr>\n",
       "<tr>\n",
       "  <th>Time:</th>                 <td>15:08:53</td>     <th>  Log-Likelihood:    </th> <td> -3408.7</td>\n",
       "</tr>\n",
       "<tr>\n",
       "  <th>No. Observations:</th>      <td> 12585</td>      <th>  AIC:               </th> <td>   6825.</td>\n",
       "</tr>\n",
       "<tr>\n",
       "  <th>Df Residuals:</th>          <td> 12581</td>      <th>  BIC:               </th> <td>   6855.</td>\n",
       "</tr>\n",
       "<tr>\n",
       "  <th>Df Model:</th>              <td>     3</td>      <th>                     </th>     <td> </td>   \n",
       "</tr>\n",
       "<tr>\n",
       "  <th>Covariance Type:</th>      <td>nonrobust</td>    <th>                     </th>     <td> </td>   \n",
       "</tr>\n",
       "</table>\n",
       "<table class=\"simpletable\">\n",
       "<tr>\n",
       "       <td></td>         <th>coef</th>     <th>std err</th>      <th>t</th>      <th>P>|t|</th>  <th>[0.025</th>    <th>0.975]</th>  \n",
       "</tr>\n",
       "<tr>\n",
       "  <th>const</th>      <td>   13.5971</td> <td>    0.045</td> <td>  303.212</td> <td> 0.000</td> <td>   13.509</td> <td>   13.685</td>\n",
       "</tr>\n",
       "<tr>\n",
       "  <th>bedrooms</th>   <td>    0.1130</td> <td>    0.012</td> <td>    9.357</td> <td> 0.000</td> <td>    0.089</td> <td>    0.137</td>\n",
       "</tr>\n",
       "<tr>\n",
       "  <th>sqft_above</th> <td>    0.0002</td> <td>  6.5e-06</td> <td>   25.216</td> <td> 0.000</td> <td>    0.000</td> <td>    0.000</td>\n",
       "</tr>\n",
       "<tr>\n",
       "  <th>sqft_lot15</th> <td>   -0.1364</td> <td>    0.005</td> <td>  -25.835</td> <td> 0.000</td> <td>   -0.147</td> <td>   -0.126</td>\n",
       "</tr>\n",
       "</table>\n",
       "<table class=\"simpletable\">\n",
       "<tr>\n",
       "  <th>Omnibus:</th>       <td>295.971</td> <th>  Durbin-Watson:     </th> <td>   1.993</td>\n",
       "</tr>\n",
       "<tr>\n",
       "  <th>Prob(Omnibus):</th> <td> 0.000</td>  <th>  Jarque-Bera (JB):  </th> <td> 309.568</td>\n",
       "</tr>\n",
       "<tr>\n",
       "  <th>Skew:</th>          <td>-0.372</td>  <th>  Prob(JB):          </th> <td>6.00e-68</td>\n",
       "</tr>\n",
       "<tr>\n",
       "  <th>Kurtosis:</th>      <td> 2.808</td>  <th>  Cond. No.          </th> <td>2.43e+04</td>\n",
       "</tr>\n",
       "</table><br/><br/>Warnings:<br/>[1] Standard Errors assume that the covariance matrix of the errors is correctly specified.<br/>[2] The condition number is large, 2.43e+04. This might indicate that there are<br/>strong multicollinearity or other numerical problems."
      ],
      "text/plain": [
       "<class 'statsmodels.iolib.summary.Summary'>\n",
       "\"\"\"\n",
       "                            OLS Regression Results                            \n",
       "==============================================================================\n",
       "Dep. Variable:                  price   R-squared:                       0.115\n",
       "Model:                            OLS   Adj. R-squared:                  0.115\n",
       "Method:                 Least Squares   F-statistic:                     547.0\n",
       "Date:                Tue, 12 Mar 2019   Prob (F-statistic):               0.00\n",
       "Time:                        15:08:53   Log-Likelihood:                -3408.7\n",
       "No. Observations:               12585   AIC:                             6825.\n",
       "Df Residuals:                   12581   BIC:                             6855.\n",
       "Df Model:                           3                                         \n",
       "Covariance Type:            nonrobust                                         \n",
       "==============================================================================\n",
       "                 coef    std err          t      P>|t|      [0.025      0.975]\n",
       "------------------------------------------------------------------------------\n",
       "const         13.5971      0.045    303.212      0.000      13.509      13.685\n",
       "bedrooms       0.1130      0.012      9.357      0.000       0.089       0.137\n",
       "sqft_above     0.0002    6.5e-06     25.216      0.000       0.000       0.000\n",
       "sqft_lot15    -0.1364      0.005    -25.835      0.000      -0.147      -0.126\n",
       "==============================================================================\n",
       "Omnibus:                      295.971   Durbin-Watson:                   1.993\n",
       "Prob(Omnibus):                  0.000   Jarque-Bera (JB):              309.568\n",
       "Skew:                          -0.372   Prob(JB):                     6.00e-68\n",
       "Kurtosis:                       2.808   Cond. No.                     2.43e+04\n",
       "==============================================================================\n",
       "\n",
       "Warnings:\n",
       "[1] Standard Errors assume that the covariance matrix of the errors is correctly specified.\n",
       "[2] The condition number is large, 2.43e+04. This might indicate that there are\n",
       "strong multicollinearity or other numerical problems.\n",
       "\"\"\""
      ]
     },
     "execution_count": 67,
     "metadata": {},
     "output_type": "execute_result"
    }
   ],
   "source": [
    "X = df_numerical_log_3_features\n",
    "y = df_numerical_log_3.price\n",
    "\n",
    "X_int = sm.add_constant(X)\n",
    "model = sm.OLS(y, X_int).fit()\n",
    "model.summary()"
   ]
  },
  {
   "cell_type": "markdown",
   "metadata": {},
   "source": [
    "## Feature Selection"
   ]
  },
  {
   "cell_type": "markdown",
   "metadata": {},
   "source": [
    "#### Goal\n",
    "Determine what features are most important, only include these features into my final model\n",
    "\n",
    "#### Transform\n",
    " - Create variance threshold, set variance threshold on X data, then transform\n",
    "\n",
    "#### Drop\n",
    "Features that have variance below set threshold are dropped, using training data to calculate variance\n",
    " - Training Data - learn on this data set\n",
    " - Test Data - final model then run on Test Data, algo can be then applied to other data sets\n"
   ]
  },
  {
   "cell_type": "markdown",
   "metadata": {},
   "source": [
    "#### Benefits\n",
    " - Reduces Overfitting: Less redundant data means less opportunity to make decisions based on noise.\n",
    " - Improves Accuracy: Less misleading data means modeling accuracy improves.\n",
    " - Reduces Training Time: Less data means that algorithms train faster."
   ]
  },
  {
   "cell_type": "code",
   "execution_count": 74,
   "metadata": {},
   "outputs": [
    {
     "data": {
      "text/html": [
       "<div>\n",
       "<style scoped>\n",
       "    .dataframe tbody tr th:only-of-type {\n",
       "        vertical-align: middle;\n",
       "    }\n",
       "\n",
       "    .dataframe tbody tr th {\n",
       "        vertical-align: top;\n",
       "    }\n",
       "\n",
       "    .dataframe thead th {\n",
       "        text-align: right;\n",
       "    }\n",
       "</style>\n",
       "<table border=\"1\" class=\"dataframe\">\n",
       "  <thead>\n",
       "    <tr style=\"text-align: right;\">\n",
       "      <th></th>\n",
       "      <th>date</th>\n",
       "      <th>waterfront</th>\n",
       "      <th>condition</th>\n",
       "      <th>grade</th>\n",
       "      <th>yr_built</th>\n",
       "      <th>zipcode</th>\n",
       "      <th>lat</th>\n",
       "      <th>long</th>\n",
       "      <th>basement</th>\n",
       "      <th>no_basement</th>\n",
       "      <th>renovation</th>\n",
       "      <th>no_renovation</th>\n",
       "      <th>no_view</th>\n",
       "      <th>poor_view</th>\n",
       "      <th>average_view</th>\n",
       "      <th>good_view</th>\n",
       "      <th>great_view</th>\n",
       "    </tr>\n",
       "  </thead>\n",
       "  <tbody>\n",
       "    <tr>\n",
       "      <th>0</th>\n",
       "      <td>10/13/2014</td>\n",
       "      <td>0</td>\n",
       "      <td>3</td>\n",
       "      <td>7</td>\n",
       "      <td>1955</td>\n",
       "      <td>98178</td>\n",
       "      <td>47.5112</td>\n",
       "      <td>-122.257</td>\n",
       "      <td>0</td>\n",
       "      <td>1</td>\n",
       "      <td>0</td>\n",
       "      <td>1</td>\n",
       "      <td>1</td>\n",
       "      <td>0</td>\n",
       "      <td>0</td>\n",
       "      <td>0</td>\n",
       "      <td>0</td>\n",
       "    </tr>\n",
       "    <tr>\n",
       "      <th>1</th>\n",
       "      <td>12/9/2014</td>\n",
       "      <td>0</td>\n",
       "      <td>3</td>\n",
       "      <td>7</td>\n",
       "      <td>1951</td>\n",
       "      <td>98125</td>\n",
       "      <td>47.7210</td>\n",
       "      <td>-122.319</td>\n",
       "      <td>1</td>\n",
       "      <td>0</td>\n",
       "      <td>1</td>\n",
       "      <td>0</td>\n",
       "      <td>1</td>\n",
       "      <td>0</td>\n",
       "      <td>0</td>\n",
       "      <td>0</td>\n",
       "      <td>0</td>\n",
       "    </tr>\n",
       "    <tr>\n",
       "      <th>2</th>\n",
       "      <td>2/25/2015</td>\n",
       "      <td>0</td>\n",
       "      <td>3</td>\n",
       "      <td>6</td>\n",
       "      <td>1933</td>\n",
       "      <td>98028</td>\n",
       "      <td>47.7379</td>\n",
       "      <td>-122.233</td>\n",
       "      <td>0</td>\n",
       "      <td>1</td>\n",
       "      <td>0</td>\n",
       "      <td>1</td>\n",
       "      <td>1</td>\n",
       "      <td>0</td>\n",
       "      <td>0</td>\n",
       "      <td>0</td>\n",
       "      <td>0</td>\n",
       "    </tr>\n",
       "    <tr>\n",
       "      <th>4</th>\n",
       "      <td>2/18/2015</td>\n",
       "      <td>0</td>\n",
       "      <td>3</td>\n",
       "      <td>8</td>\n",
       "      <td>1987</td>\n",
       "      <td>98074</td>\n",
       "      <td>47.6168</td>\n",
       "      <td>-122.045</td>\n",
       "      <td>0</td>\n",
       "      <td>1</td>\n",
       "      <td>0</td>\n",
       "      <td>1</td>\n",
       "      <td>1</td>\n",
       "      <td>0</td>\n",
       "      <td>0</td>\n",
       "      <td>0</td>\n",
       "      <td>0</td>\n",
       "    </tr>\n",
       "    <tr>\n",
       "      <th>8</th>\n",
       "      <td>4/15/2015</td>\n",
       "      <td>0</td>\n",
       "      <td>3</td>\n",
       "      <td>7</td>\n",
       "      <td>1960</td>\n",
       "      <td>98146</td>\n",
       "      <td>47.5123</td>\n",
       "      <td>-122.337</td>\n",
       "      <td>1</td>\n",
       "      <td>0</td>\n",
       "      <td>0</td>\n",
       "      <td>1</td>\n",
       "      <td>1</td>\n",
       "      <td>0</td>\n",
       "      <td>0</td>\n",
       "      <td>0</td>\n",
       "      <td>0</td>\n",
       "    </tr>\n",
       "  </tbody>\n",
       "</table>\n",
       "</div>"
      ],
      "text/plain": [
       "         date  waterfront  condition  grade  yr_built  zipcode      lat  \\\n",
       "0  10/13/2014           0          3      7      1955    98178  47.5112   \n",
       "1   12/9/2014           0          3      7      1951    98125  47.7210   \n",
       "2   2/25/2015           0          3      6      1933    98028  47.7379   \n",
       "4   2/18/2015           0          3      8      1987    98074  47.6168   \n",
       "8   4/15/2015           0          3      7      1960    98146  47.5123   \n",
       "\n",
       "      long  basement  no_basement  renovation  no_renovation  no_view  \\\n",
       "0 -122.257         0            1           0              1        1   \n",
       "1 -122.319         1            0           1              0        1   \n",
       "2 -122.233         0            1           0              1        1   \n",
       "4 -122.045         0            1           0              1        1   \n",
       "8 -122.337         1            0           0              1        1   \n",
       "\n",
       "   poor_view  average_view  good_view  great_view  \n",
       "0          0             0          0           0  \n",
       "1          0             0          0           0  \n",
       "2          0             0          0           0  \n",
       "4          0             0          0           0  \n",
       "8          0             0          0           0  "
      ]
     },
     "execution_count": 74,
     "metadata": {},
     "output_type": "execute_result"
    }
   ],
   "source": [
    "df_categorical_features.head()"
   ]
  },
  {
   "cell_type": "code",
   "execution_count": 79,
   "metadata": {},
   "outputs": [],
   "source": [
    "df_categorical_features = df_categorical.drop(['price', 'date'], axis=1)"
   ]
  },
  {
   "cell_type": "code",
   "execution_count": 84,
   "metadata": {},
   "outputs": [],
   "source": [
    "df_numerical_log_4 = df_numerical_log_3.drop(['price'], axis=1)"
   ]
  },
  {
   "cell_type": "code",
   "execution_count": 85,
   "metadata": {},
   "outputs": [
    {
     "data": {
      "text/html": [
       "<div>\n",
       "<style scoped>\n",
       "    .dataframe tbody tr th:only-of-type {\n",
       "        vertical-align: middle;\n",
       "    }\n",
       "\n",
       "    .dataframe tbody tr th {\n",
       "        vertical-align: top;\n",
       "    }\n",
       "\n",
       "    .dataframe thead th {\n",
       "        text-align: right;\n",
       "    }\n",
       "</style>\n",
       "<table border=\"1\" class=\"dataframe\">\n",
       "  <thead>\n",
       "    <tr style=\"text-align: right;\">\n",
       "      <th></th>\n",
       "      <th>bedrooms</th>\n",
       "      <th>sqft_above</th>\n",
       "      <th>sqft_lot15</th>\n",
       "      <th>waterfront</th>\n",
       "      <th>condition</th>\n",
       "      <th>grade</th>\n",
       "      <th>yr_built</th>\n",
       "      <th>zipcode</th>\n",
       "      <th>lat</th>\n",
       "      <th>long</th>\n",
       "      <th>basement</th>\n",
       "      <th>no_basement</th>\n",
       "      <th>renovation</th>\n",
       "      <th>no_renovation</th>\n",
       "      <th>no_view</th>\n",
       "      <th>poor_view</th>\n",
       "      <th>average_view</th>\n",
       "      <th>good_view</th>\n",
       "      <th>great_view</th>\n",
       "    </tr>\n",
       "  </thead>\n",
       "  <tbody>\n",
       "    <tr>\n",
       "      <th>0</th>\n",
       "      <td>1.098612</td>\n",
       "      <td>1180</td>\n",
       "      <td>8.639411</td>\n",
       "      <td>0</td>\n",
       "      <td>3</td>\n",
       "      <td>7</td>\n",
       "      <td>1955</td>\n",
       "      <td>98178</td>\n",
       "      <td>47.5112</td>\n",
       "      <td>-122.257</td>\n",
       "      <td>0</td>\n",
       "      <td>1</td>\n",
       "      <td>0</td>\n",
       "      <td>1</td>\n",
       "      <td>1</td>\n",
       "      <td>0</td>\n",
       "      <td>0</td>\n",
       "      <td>0</td>\n",
       "      <td>0</td>\n",
       "    </tr>\n",
       "    <tr>\n",
       "      <th>1</th>\n",
       "      <td>1.098612</td>\n",
       "      <td>2170</td>\n",
       "      <td>8.941022</td>\n",
       "      <td>0</td>\n",
       "      <td>3</td>\n",
       "      <td>7</td>\n",
       "      <td>1951</td>\n",
       "      <td>98125</td>\n",
       "      <td>47.7210</td>\n",
       "      <td>-122.319</td>\n",
       "      <td>1</td>\n",
       "      <td>0</td>\n",
       "      <td>1</td>\n",
       "      <td>0</td>\n",
       "      <td>1</td>\n",
       "      <td>0</td>\n",
       "      <td>0</td>\n",
       "      <td>0</td>\n",
       "      <td>0</td>\n",
       "    </tr>\n",
       "    <tr>\n",
       "      <th>2</th>\n",
       "      <td>0.693147</td>\n",
       "      <td>770</td>\n",
       "      <td>8.994917</td>\n",
       "      <td>0</td>\n",
       "      <td>3</td>\n",
       "      <td>6</td>\n",
       "      <td>1933</td>\n",
       "      <td>98028</td>\n",
       "      <td>47.7379</td>\n",
       "      <td>-122.233</td>\n",
       "      <td>0</td>\n",
       "      <td>1</td>\n",
       "      <td>0</td>\n",
       "      <td>1</td>\n",
       "      <td>1</td>\n",
       "      <td>0</td>\n",
       "      <td>0</td>\n",
       "      <td>0</td>\n",
       "      <td>0</td>\n",
       "    </tr>\n",
       "    <tr>\n",
       "      <th>4</th>\n",
       "      <td>1.098612</td>\n",
       "      <td>1680</td>\n",
       "      <td>8.923058</td>\n",
       "      <td>0</td>\n",
       "      <td>3</td>\n",
       "      <td>8</td>\n",
       "      <td>1987</td>\n",
       "      <td>98074</td>\n",
       "      <td>47.6168</td>\n",
       "      <td>-122.045</td>\n",
       "      <td>0</td>\n",
       "      <td>1</td>\n",
       "      <td>0</td>\n",
       "      <td>1</td>\n",
       "      <td>1</td>\n",
       "      <td>0</td>\n",
       "      <td>0</td>\n",
       "      <td>0</td>\n",
       "      <td>0</td>\n",
       "    </tr>\n",
       "    <tr>\n",
       "      <th>8</th>\n",
       "      <td>1.098612</td>\n",
       "      <td>1050</td>\n",
       "      <td>9.001223</td>\n",
       "      <td>0</td>\n",
       "      <td>3</td>\n",
       "      <td>7</td>\n",
       "      <td>1960</td>\n",
       "      <td>98146</td>\n",
       "      <td>47.5123</td>\n",
       "      <td>-122.337</td>\n",
       "      <td>1</td>\n",
       "      <td>0</td>\n",
       "      <td>0</td>\n",
       "      <td>1</td>\n",
       "      <td>1</td>\n",
       "      <td>0</td>\n",
       "      <td>0</td>\n",
       "      <td>0</td>\n",
       "      <td>0</td>\n",
       "    </tr>\n",
       "  </tbody>\n",
       "</table>\n",
       "</div>"
      ],
      "text/plain": [
       "   bedrooms  sqft_above  sqft_lot15  waterfront  condition  grade  yr_built  \\\n",
       "0  1.098612        1180    8.639411           0          3      7      1955   \n",
       "1  1.098612        2170    8.941022           0          3      7      1951   \n",
       "2  0.693147         770    8.994917           0          3      6      1933   \n",
       "4  1.098612        1680    8.923058           0          3      8      1987   \n",
       "8  1.098612        1050    9.001223           0          3      7      1960   \n",
       "\n",
       "   zipcode      lat     long  basement  no_basement  renovation  \\\n",
       "0    98178  47.5112 -122.257         0            1           0   \n",
       "1    98125  47.7210 -122.319         1            0           1   \n",
       "2    98028  47.7379 -122.233         0            1           0   \n",
       "4    98074  47.6168 -122.045         0            1           0   \n",
       "8    98146  47.5123 -122.337         1            0           0   \n",
       "\n",
       "   no_renovation  no_view  poor_view  average_view  good_view  great_view  \n",
       "0              1        1          0             0          0           0  \n",
       "1              0        1          0             0          0           0  \n",
       "2              1        1          0             0          0           0  \n",
       "4              1        1          0             0          0           0  \n",
       "8              1        1          0             0          0           0  "
      ]
     },
     "execution_count": 85,
     "metadata": {},
     "output_type": "execute_result"
    }
   ],
   "source": [
    "df_concat_cat_num_1 = df_numerical_log_4.join(df_categorical_features)\n",
    "df_concat_cat_num_1.head()"
   ]
  },
  {
   "cell_type": "code",
   "execution_count": null,
   "metadata": {},
   "outputs": [],
   "source": [
    "df_linreg_numerical_log = df_numerical_log.copy(deep=True)"
   ]
  },
  {
   "cell_type": "markdown",
   "metadata": {},
   "source": [
    "### Recursive Feature Elimination"
   ]
  },
  {
   "cell_type": "markdown",
   "metadata": {},
   "source": [
    "Given an external estimator that assigns weights to features, RFE selects features by recursively considering smaller and smaller sets of features. First, the estimator is trained on the initial set of features and weights are assigned to each. Then, features whose absolute weights are the smallest are pruned from the current set of features. That procedure is recursively repeated on the pruned set until the desired number of features is eventually reached.\n",
    "\n",
    "Needs feature importance based on some evaluation: coefficient"
   ]
  },
  {
   "cell_type": "code",
   "execution_count": 76,
   "metadata": {},
   "outputs": [],
   "source": [
    "from sklearn.feature_selection import RFE\n",
    "from sklearn.linear_model import LinearRegression"
   ]
  },
  {
   "cell_type": "code",
   "execution_count": 94,
   "metadata": {},
   "outputs": [],
   "source": [
    "linreg = LinearRegression()\n",
    "selector = RFE(linreg, n_features_to_select=3)"
   ]
  },
  {
   "cell_type": "code",
   "execution_count": 95,
   "metadata": {},
   "outputs": [],
   "source": [
    "X= df_concat_cat_num_1\n",
    "y= df_numerical_log_3.price\n",
    "selector = selector.fit(X, y)"
   ]
  },
  {
   "cell_type": "code",
   "execution_count": 96,
   "metadata": {},
   "outputs": [
    {
     "data": {
      "text/plain": [
       "array([ 3, 17, 12,  1, 11,  1, 15, 16,  1,  4, 13,  6,  5, 10,  2,  8, 14,\n",
       "        9,  7])"
      ]
     },
     "execution_count": 96,
     "metadata": {},
     "output_type": "execute_result"
    }
   ],
   "source": [
    "# Pre-Scaling - Ranking: \n",
    "selector.ranking_"
   ]
  },
  {
   "cell_type": "code",
   "execution_count": 90,
   "metadata": {},
   "outputs": [
    {
     "data": {
      "text/plain": [
       "Index(['bedrooms', 'sqft_above', 'sqft_lot15', 'waterfront', 'condition',\n",
       "       'grade', 'yr_built', 'zipcode', 'lat', 'long', 'basement',\n",
       "       'no_basement', 'renovation', 'no_renovation', 'no_view', 'poor_view',\n",
       "       'average_view', 'good_view', 'great_view'],\n",
       "      dtype='object')"
      ]
     },
     "execution_count": 90,
     "metadata": {},
     "output_type": "execute_result"
    }
   ],
   "source": [
    "X.columns"
   ]
  },
  {
   "cell_type": "markdown",
   "metadata": {},
   "source": [
    "# Top Features\n",
    " - bedrooms\n",
    " - waterfront\n",
    " - grade\n",
    " - lat\n",
    " - no_view"
   ]
  },
  {
   "cell_type": "code",
   "execution_count": 97,
   "metadata": {},
   "outputs": [],
   "source": [
    "no_scale = selector.ranking_"
   ]
  },
  {
   "cell_type": "code",
   "execution_count": 98,
   "metadata": {},
   "outputs": [
    {
     "data": {
      "text/plain": [
       "LinearRegression(copy_X=True, fit_intercept=True, n_jobs=None,\n",
       "         normalize=False)"
      ]
     },
     "execution_count": 98,
     "metadata": {},
     "output_type": "execute_result"
    }
   ],
   "source": [
    "linreg.fit(X, y)"
   ]
  },
  {
   "cell_type": "code",
   "execution_count": 99,
   "metadata": {},
   "outputs": [
    {
     "data": {
      "text/plain": [
       "array([-1.76254184e-03,  2.51334385e-04, -9.48052727e-02,  5.17663308e-01,\n",
       "        4.65128156e-02,  1.35733851e-01, -2.31461880e-03, -3.50357752e-04,\n",
       "        1.30314008e+00,  1.64367184e-01,  7.75727656e-02, -7.75727656e-02,\n",
       "        2.04504151e-02, -2.04504151e-02, -1.35035437e-01,  3.77876129e-02,\n",
       "       -1.25688530e-02,  4.20288647e-02,  6.77878126e-02])"
      ]
     },
     "execution_count": 99,
     "metadata": {},
     "output_type": "execute_result"
    }
   ],
   "source": [
    "# regression coefficients\n",
    "linreg.coef_"
   ]
  },
  {
   "cell_type": "markdown",
   "metadata": {},
   "source": [
    "#### Transform"
   ]
  },
  {
   "cell_type": "code",
   "execution_count": 100,
   "metadata": {},
   "outputs": [],
   "source": [
    "from sklearn.preprocessing import MinMaxScaler"
   ]
  },
  {
   "cell_type": "code",
   "execution_count": 101,
   "metadata": {},
   "outputs": [
    {
     "name": "stderr",
     "output_type": "stream",
     "text": [
      "/Users/patrickrouth/anaconda3/envs/learn-env/lib/python3.6/site-packages/sklearn/preprocessing/data.py:323: DataConversionWarning: Data with input dtype int64, float64 were all converted to float64 by MinMaxScaler.\n",
      "  return self.partial_fit(X, y)\n"
     ]
    }
   ],
   "source": [
    "scaler = MinMaxScaler()\n",
    "scaler.fit(X)\n",
    "scaled_data = scaler.transform(X)"
   ]
  },
  {
   "cell_type": "code",
   "execution_count": 102,
   "metadata": {},
   "outputs": [
    {
     "data": {
      "text/plain": [
       "array([[0.68260619, 0.30798479, 0.68877826, ..., 0.        , 0.        ,\n",
       "        0.        ],\n",
       "       [0.68260619, 0.68441065, 0.78491557, ..., 0.        , 0.        ,\n",
       "        0.        ],\n",
       "       [0.43067656, 0.15209125, 0.80209436, ..., 0.        , 0.        ,\n",
       "        0.        ],\n",
       "       ...,\n",
       "       [0.43067656, 0.24714829, 0.35887171, ..., 0.        , 0.        ,\n",
       "        0.        ],\n",
       "       [0.68260619, 0.46768061, 0.21724428, ..., 0.        , 0.        ,\n",
       "        0.        ],\n",
       "       [0.43067656, 0.24714829, 0.23412584, ..., 0.        , 0.        ,\n",
       "        0.        ]])"
      ]
     },
     "execution_count": 102,
     "metadata": {},
     "output_type": "execute_result"
    }
   ],
   "source": [
    "scaled_data"
   ]
  },
  {
   "cell_type": "code",
   "execution_count": 103,
   "metadata": {},
   "outputs": [
    {
     "data": {
      "text/plain": [
       "LinearRegression(copy_X=True, fit_intercept=True, n_jobs=None,\n",
       "         normalize=False)"
      ]
     },
     "execution_count": 103,
     "metadata": {},
     "output_type": "execute_result"
    }
   ],
   "source": [
    "linreg.fit(scaled_data, y)"
   ]
  },
  {
   "cell_type": "code",
   "execution_count": 104,
   "metadata": {},
   "outputs": [
    {
     "data": {
      "text/plain": [
       "array([-0.0028367 ,  0.66100943, -0.29743219,  0.51766331,  0.18605126,\n",
       "        0.95013696, -0.26618116, -0.06937083,  0.76637668,  0.19066593,\n",
       "        0.07757277, -0.07757277,  0.02045042, -0.02045042, -0.13503544,\n",
       "        0.03778761, -0.01256885,  0.04202886,  0.06778781])"
      ]
     },
     "execution_count": 104,
     "metadata": {},
     "output_type": "execute_result"
    }
   ],
   "source": [
    "linreg.coef_"
   ]
  },
  {
   "cell_type": "code",
   "execution_count": 105,
   "metadata": {},
   "outputs": [],
   "source": [
    "selector = selector.fit(scaled_data, y)"
   ]
  },
  {
   "cell_type": "code",
   "execution_count": 106,
   "metadata": {},
   "outputs": [
    {
     "data": {
      "text/plain": [
       "array([17,  2,  4,  1,  5,  1,  3, 10,  1,  6,  9,  7, 14, 15,  8, 13, 16,\n",
       "       12, 11])"
      ]
     },
     "execution_count": 106,
     "metadata": {},
     "output_type": "execute_result"
    }
   ],
   "source": [
    "selector.ranking_"
   ]
  },
  {
   "cell_type": "code",
   "execution_count": 107,
   "metadata": {},
   "outputs": [
    {
     "data": {
      "text/plain": [
       "Index(['bedrooms', 'sqft_above', 'sqft_lot15', 'waterfront', 'condition',\n",
       "       'grade', 'yr_built', 'zipcode', 'lat', 'long', 'basement',\n",
       "       'no_basement', 'renovation', 'no_renovation', 'no_view', 'poor_view',\n",
       "       'average_view', 'good_view', 'great_view'],\n",
       "      dtype='object')"
      ]
     },
     "execution_count": 107,
     "metadata": {},
     "output_type": "execute_result"
    }
   ],
   "source": [
    "X.columns"
   ]
  },
  {
   "cell_type": "code",
   "execution_count": 108,
   "metadata": {},
   "outputs": [],
   "source": [
    "scaled = selector.ranking_ "
   ]
  },
  {
   "cell_type": "code",
   "execution_count": 109,
   "metadata": {},
   "outputs": [],
   "source": [
    "features = pd.DataFrame({'Columns': X.columns,\n",
    "                         'Not_Scaled': no_scale,\n",
    "                         'Scaled': scaled})"
   ]
  },
  {
   "cell_type": "code",
   "execution_count": 110,
   "metadata": {},
   "outputs": [
    {
     "data": {
      "text/html": [
       "<div>\n",
       "<style scoped>\n",
       "    .dataframe tbody tr th:only-of-type {\n",
       "        vertical-align: middle;\n",
       "    }\n",
       "\n",
       "    .dataframe tbody tr th {\n",
       "        vertical-align: top;\n",
       "    }\n",
       "\n",
       "    .dataframe thead th {\n",
       "        text-align: right;\n",
       "    }\n",
       "</style>\n",
       "<table border=\"1\" class=\"dataframe\">\n",
       "  <thead>\n",
       "    <tr style=\"text-align: right;\">\n",
       "      <th></th>\n",
       "      <th>Columns</th>\n",
       "      <th>Not_Scaled</th>\n",
       "      <th>Scaled</th>\n",
       "    </tr>\n",
       "  </thead>\n",
       "  <tbody>\n",
       "    <tr>\n",
       "      <th>0</th>\n",
       "      <td>bedrooms</td>\n",
       "      <td>3</td>\n",
       "      <td>17</td>\n",
       "    </tr>\n",
       "    <tr>\n",
       "      <th>1</th>\n",
       "      <td>sqft_above</td>\n",
       "      <td>17</td>\n",
       "      <td>2</td>\n",
       "    </tr>\n",
       "    <tr>\n",
       "      <th>2</th>\n",
       "      <td>sqft_lot15</td>\n",
       "      <td>12</td>\n",
       "      <td>4</td>\n",
       "    </tr>\n",
       "    <tr>\n",
       "      <th>3</th>\n",
       "      <td>waterfront</td>\n",
       "      <td>1</td>\n",
       "      <td>1</td>\n",
       "    </tr>\n",
       "    <tr>\n",
       "      <th>4</th>\n",
       "      <td>condition</td>\n",
       "      <td>11</td>\n",
       "      <td>5</td>\n",
       "    </tr>\n",
       "    <tr>\n",
       "      <th>5</th>\n",
       "      <td>grade</td>\n",
       "      <td>1</td>\n",
       "      <td>1</td>\n",
       "    </tr>\n",
       "    <tr>\n",
       "      <th>6</th>\n",
       "      <td>yr_built</td>\n",
       "      <td>15</td>\n",
       "      <td>3</td>\n",
       "    </tr>\n",
       "    <tr>\n",
       "      <th>7</th>\n",
       "      <td>zipcode</td>\n",
       "      <td>16</td>\n",
       "      <td>10</td>\n",
       "    </tr>\n",
       "    <tr>\n",
       "      <th>8</th>\n",
       "      <td>lat</td>\n",
       "      <td>1</td>\n",
       "      <td>1</td>\n",
       "    </tr>\n",
       "    <tr>\n",
       "      <th>9</th>\n",
       "      <td>long</td>\n",
       "      <td>4</td>\n",
       "      <td>6</td>\n",
       "    </tr>\n",
       "    <tr>\n",
       "      <th>10</th>\n",
       "      <td>basement</td>\n",
       "      <td>13</td>\n",
       "      <td>9</td>\n",
       "    </tr>\n",
       "    <tr>\n",
       "      <th>11</th>\n",
       "      <td>no_basement</td>\n",
       "      <td>6</td>\n",
       "      <td>7</td>\n",
       "    </tr>\n",
       "    <tr>\n",
       "      <th>12</th>\n",
       "      <td>renovation</td>\n",
       "      <td>5</td>\n",
       "      <td>14</td>\n",
       "    </tr>\n",
       "    <tr>\n",
       "      <th>13</th>\n",
       "      <td>no_renovation</td>\n",
       "      <td>10</td>\n",
       "      <td>15</td>\n",
       "    </tr>\n",
       "    <tr>\n",
       "      <th>14</th>\n",
       "      <td>no_view</td>\n",
       "      <td>2</td>\n",
       "      <td>8</td>\n",
       "    </tr>\n",
       "    <tr>\n",
       "      <th>15</th>\n",
       "      <td>poor_view</td>\n",
       "      <td>8</td>\n",
       "      <td>13</td>\n",
       "    </tr>\n",
       "    <tr>\n",
       "      <th>16</th>\n",
       "      <td>average_view</td>\n",
       "      <td>14</td>\n",
       "      <td>16</td>\n",
       "    </tr>\n",
       "    <tr>\n",
       "      <th>17</th>\n",
       "      <td>good_view</td>\n",
       "      <td>9</td>\n",
       "      <td>12</td>\n",
       "    </tr>\n",
       "    <tr>\n",
       "      <th>18</th>\n",
       "      <td>great_view</td>\n",
       "      <td>7</td>\n",
       "      <td>11</td>\n",
       "    </tr>\n",
       "  </tbody>\n",
       "</table>\n",
       "</div>"
      ],
      "text/plain": [
       "          Columns  Not_Scaled  Scaled\n",
       "0        bedrooms           3      17\n",
       "1      sqft_above          17       2\n",
       "2      sqft_lot15          12       4\n",
       "3      waterfront           1       1\n",
       "4       condition          11       5\n",
       "5           grade           1       1\n",
       "6        yr_built          15       3\n",
       "7         zipcode          16      10\n",
       "8             lat           1       1\n",
       "9            long           4       6\n",
       "10       basement          13       9\n",
       "11    no_basement           6       7\n",
       "12     renovation           5      14\n",
       "13  no_renovation          10      15\n",
       "14        no_view           2       8\n",
       "15      poor_view           8      13\n",
       "16   average_view          14      16\n",
       "17      good_view           9      12\n",
       "18     great_view           7      11"
      ]
     },
     "execution_count": 110,
     "metadata": {},
     "output_type": "execute_result"
    }
   ],
   "source": [
    "features"
   ]
  },
  {
   "cell_type": "code",
   "execution_count": 111,
   "metadata": {},
   "outputs": [
    {
     "data": {
      "text/plain": [
       "Text(0, 0.5, 'Features Importance')"
      ]
     },
     "execution_count": 111,
     "metadata": {},
     "output_type": "execute_result"
    },
    {
     "data": {
      "image/png": "[encoded data removed]",
      "text/plain": [
       "<Figure size 1152x864 with 1 Axes>"
      ]
     },
     "metadata": {},
     "output_type": "display_data"
    }
   ],
   "source": [
    "plt.style.use('ggplot')\n",
    "ax = features.set_index('Columns').plot(kind = 'bar', figsize = [16, 12])\n",
    "ax.set_title('Feature Importance Scaled vs Not Scaled')\n",
    "ax.set_ylabel('Features Importance')"
   ]
  },
  {
   "cell_type": "code",
   "execution_count": 112,
   "metadata": {},
   "outputs": [
    {
     "data": {
      "text/html": [
       "<div>\n",
       "<style scoped>\n",
       "    .dataframe tbody tr th:only-of-type {\n",
       "        vertical-align: middle;\n",
       "    }\n",
       "\n",
       "    .dataframe tbody tr th {\n",
       "        vertical-align: top;\n",
       "    }\n",
       "\n",
       "    .dataframe thead th {\n",
       "        text-align: right;\n",
       "    }\n",
       "</style>\n",
       "<table border=\"1\" class=\"dataframe\">\n",
       "  <thead>\n",
       "    <tr style=\"text-align: right;\">\n",
       "      <th></th>\n",
       "      <th>waterfront</th>\n",
       "      <th>grade</th>\n",
       "      <th>lat</th>\n",
       "    </tr>\n",
       "  </thead>\n",
       "  <tbody>\n",
       "    <tr>\n",
       "      <th>0</th>\n",
       "      <td>0</td>\n",
       "      <td>7</td>\n",
       "      <td>47.5112</td>\n",
       "    </tr>\n",
       "    <tr>\n",
       "      <th>1</th>\n",
       "      <td>0</td>\n",
       "      <td>7</td>\n",
       "      <td>47.7210</td>\n",
       "    </tr>\n",
       "    <tr>\n",
       "      <th>2</th>\n",
       "      <td>0</td>\n",
       "      <td>6</td>\n",
       "      <td>47.7379</td>\n",
       "    </tr>\n",
       "    <tr>\n",
       "      <th>4</th>\n",
       "      <td>0</td>\n",
       "      <td>8</td>\n",
       "      <td>47.6168</td>\n",
       "    </tr>\n",
       "    <tr>\n",
       "      <th>8</th>\n",
       "      <td>0</td>\n",
       "      <td>7</td>\n",
       "      <td>47.5123</td>\n",
       "    </tr>\n",
       "  </tbody>\n",
       "</table>\n",
       "</div>"
      ],
      "text/plain": [
       "   waterfront  grade      lat\n",
       "0           0      7  47.5112\n",
       "1           0      7  47.7210\n",
       "2           0      6  47.7379\n",
       "4           0      8  47.6168\n",
       "8           0      7  47.5123"
      ]
     },
     "execution_count": 112,
     "metadata": {},
     "output_type": "execute_result"
    }
   ],
   "source": [
    "X[X.columns[selector.support_]].head()"
   ]
  },
  {
   "cell_type": "code",
   "execution_count": 113,
   "metadata": {},
   "outputs": [],
   "source": [
    "r_squared = []\n",
    "for x in range(1, len(X.columns)):\n",
    "    selector = RFE(linreg, n_features_to_select=x)\n",
    "    selector.fit(scaled_data, y)\n",
    "    linreg.fit(X[X.columns[selector.support_]], y)\n",
    "    r_sq = linreg.score(X[X.columns[selector.support_]], y)\n",
    "    r_squared.append(r_sq)"
   ]
  },
  {
   "cell_type": "code",
   "execution_count": 114,
   "metadata": {},
   "outputs": [
    {
     "data": {
      "text/plain": [
       "[0.18804497242516993,\n",
       " 0.4953563737516098,\n",
       " 0.4966989449190469,\n",
       " 0.5239663323097309,\n",
       " 0.5413817761386013,\n",
       " 0.5496271470046722,\n",
       " 0.5586108886748578,\n",
       " 0.5614003639065258,\n",
       " 0.6020890767038425,\n",
       " 0.6074852268371234,\n",
       " 0.6074852268371232,\n",
       " 0.6093982164817018,\n",
       " 0.6094222506762206,\n",
       " 0.6095034950860186,\n",
       " 0.6096319659553506,\n",
       " 0.6099284472155908,\n",
       " 0.6099284472155911,\n",
       " 0.6099284472155909]"
      ]
     },
     "execution_count": 114,
     "metadata": {},
     "output_type": "execute_result"
    }
   ],
   "source": [
    "r_squared"
   ]
  },
  {
   "cell_type": "code",
   "execution_count": 115,
   "metadata": {},
   "outputs": [
    {
     "data": {
      "text/plain": [
       "19"
      ]
     },
     "execution_count": 115,
     "metadata": {},
     "output_type": "execute_result"
    }
   ],
   "source": [
    "len(X.columns)"
   ]
  },
  {
   "cell_type": "code",
   "execution_count": 116,
   "metadata": {},
   "outputs": [
    {
     "data": {
      "text/plain": [
       "Text(0.5, 0, 'Number of Features')"
      ]
     },
     "execution_count": 116,
     "metadata": {},
     "output_type": "execute_result"
    },
    {
     "data": {
      "image/png": "[encoded data removed]",
      "text/plain": [
       "<Figure size 432x288 with 1 Axes>"
      ]
     },
     "metadata": {},
     "output_type": "display_data"
    }
   ],
   "source": [
    "plt.plot(range(1, len(X.columns)), r_squared)\n",
    "plt.ylabel('R-Squared')\n",
    "plt.xlabel('Number of Features')"
   ]
  },
  {
   "cell_type": "code",
   "execution_count": 117,
   "metadata": {},
   "outputs": [
    {
     "data": {
      "text/plain": [
       "[0.18804497242516993,\n",
       " 0.4953563737516098,\n",
       " 0.4966989449190469,\n",
       " 0.5239663323097309,\n",
       " 0.5413817761386013,\n",
       " 0.5496271470046722,\n",
       " 0.5586108886748578,\n",
       " 0.5614003639065258,\n",
       " 0.6020890767038425,\n",
       " 0.6074852268371234,\n",
       " 0.6074852268371232,\n",
       " 0.6093982164817018,\n",
       " 0.6094222506762206,\n",
       " 0.6095034950860186,\n",
       " 0.6096319659553506,\n",
       " 0.6099284472155908,\n",
       " 0.6099284472155911,\n",
       " 0.6099284472155909]"
      ]
     },
     "execution_count": 117,
     "metadata": {},
     "output_type": "execute_result"
    }
   ],
   "source": [
    "r_squared"
   ]
  },
  {
   "cell_type": "code",
   "execution_count": 118,
   "metadata": {},
   "outputs": [],
   "source": [
    "from sklearn.metrics import mean_squared_error"
   ]
  },
  {
   "cell_type": "code",
   "execution_count": 119,
   "metadata": {},
   "outputs": [],
   "source": [
    "mse = []\n",
    "for x in range(1, len(X.columns)):\n",
    "    selector = RFE(linreg, n_features_to_select=x)\n",
    "    selector.fit(scaled_data, y)\n",
    "    linreg.fit(X[X.columns[selector.support_]], y)\n",
    "    y_pred = linreg.predict(X[X.columns[selector.support_]])\n",
    "    mse.append(mean_squared_error(y, y_pred))"
   ]
  },
  {
   "cell_type": "code",
   "execution_count": 120,
   "metadata": {},
   "outputs": [
    {
     "data": {
      "text/plain": [
       "[0.09237670456528783,\n",
       " 0.05741366650803428,\n",
       " 0.0572609212254998,\n",
       " 0.05415869104807248,\n",
       " 0.05217732354024624,\n",
       " 0.05123924179598847,\n",
       " 0.05021715507692924,\n",
       " 0.04989979448352589,\n",
       " 0.045270610509573386,\n",
       " 0.04465668664713868,\n",
       " 0.044656686647138684,\n",
       " 0.044439044446238085,\n",
       " 0.04443631005872754,\n",
       " 0.044427066824082005,\n",
       " 0.04441245060133753,\n",
       " 0.044378719716182284,\n",
       " 0.04437871971618225,\n",
       " 0.04437871971618228]"
      ]
     },
     "execution_count": 120,
     "metadata": {},
     "output_type": "execute_result"
    }
   ],
   "source": [
    "mse"
   ]
  },
  {
   "cell_type": "code",
   "execution_count": 121,
   "metadata": {},
   "outputs": [
    {
     "data": {
      "text/plain": [
       "Text(0.5, 0, 'Number of Features')"
      ]
     },
     "execution_count": 121,
     "metadata": {},
     "output_type": "execute_result"
    },
    {
     "data": {
      "image/png": "[encoded data removed]",
      "text/plain": [
       "<Figure size 432x288 with 1 Axes>"
      ]
     },
     "metadata": {},
     "output_type": "display_data"
    }
   ],
   "source": [
    "plt.plot(range(1, len(X.columns)), mse)\n",
    "plt.ylabel('MSE')\n",
    "plt.xlabel('Number of Features')"
   ]
  },
  {
   "cell_type": "code",
   "execution_count": 122,
   "metadata": {},
   "outputs": [
    {
     "data": {
      "text/plain": [
       "Text(0.5, 0, 'Number of Features')"
      ]
     },
     "execution_count": 122,
     "metadata": {},
     "output_type": "execute_result"
    },
    {
     "data": {
      "image/png": "[encoded data removed]",
      "text/plain": [
       "<Figure size 864x432 with 2 Axes>"
      ]
     },
     "metadata": {},
     "output_type": "display_data"
    }
   ],
   "source": [
    "fig = plt.figure(figsize =(12,6))\n",
    "\n",
    "ax1 = plt.subplot(121)\n",
    "ax1.plot(range(1, len(X.columns)), r_squared)\n",
    "ax1.set_ylabel('R-Squared')\n",
    "ax1.set_xlabel('Number of Features')\n",
    "\n",
    "ax2 = plt.subplot(122)\n",
    "ax2.plot(range(1, len(X.columns)), mse)\n",
    "ax2.set_ylabel('MSE')\n",
    "ax2.set_xlabel('Number of Features')"
   ]
  },
  {
   "cell_type": "markdown",
   "metadata": {},
   "source": [
    "### Analysis\n",
    "3 features seems to be the magic number!"
   ]
  },
  {
   "cell_type": "code",
   "execution_count": null,
   "metadata": {},
   "outputs": [],
   "source": [
    "linreg = LinearRegression()\n",
    "r_list = []\n",
    "adj_r_list = []\n",
    "list_n = list(range(1, len(X.columns)))\n",
    "for n in list_n: \n",
    "    select_n = RFE(linreg, n_features_to_select = n)\n",
    "    select_n = select_n.fit(X, np.ravel(y))\n",
    "    selected_columns = X.columns[select_n.support_ ]\n",
    "    linreg.fit(X[selected_columns],y)\n",
    "    yhat = linreg.predict(X[selected_columns])\n",
    "    SS_Residual = np.sum((y-yhat)**2)\n",
    "    SS_Total = np.sum((y-np.mean(y))**2)\n",
    "    r_squared = 1 - (float(SS_Residual))/SS_Total\n",
    "    print(r_squared)\n",
    "    adjusted_r_squared = 1 - (1-r_squared)*(len(y)-1)/(len(y)-X.shape[1]-1)\n",
    "    print(adjusted_r_squared)\n",
    "r_list.append(r_squared)\n",
    "adj_r_list.append(adjusted_r_squared)"
   ]
  },
  {
   "cell_type": "markdown",
   "metadata": {},
   "source": [
    "# 5. Revise the Fitted Model"
   ]
  },
  {
   "cell_type": "markdown",
   "metadata": {},
   "source": [
    "## Model Validation"
   ]
  },
  {
   "cell_type": "markdown",
   "metadata": {},
   "source": [
    "Goal develop a robust model without underfitting or overfitting\n",
    "\n",
    "Mean Squared Error - area of error in y-direction from regression line and actual values - take mean of all errors\n",
    "  - minimize MSE for a better model, actual closer to predicted values"
   ]
  },
  {
   "cell_type": "markdown",
   "metadata": {},
   "source": [
    "## Train-Test-Split"
   ]
  },
  {
   "cell_type": "markdown",
   "metadata": {},
   "source": [
    "Creating train and test sets of data (20% test, 80% train)\n",
    "Calculate the residuals and MSE"
   ]
  },
  {
   "cell_type": "code",
   "execution_count": 123,
   "metadata": {},
   "outputs": [
    {
     "name": "stdout",
     "output_type": "stream",
     "text": [
      "mse_train 0.07809443996875286\n",
      "mse_test 0.083288944025146\n",
      "mse_train 0.07802178605009379\n",
      "mse_test 0.08308169221525213\n",
      "mse_train 0.05646162226379075\n",
      "mse_test 0.06047013813003594\n",
      "mse_train 0.05545894470794292\n",
      "mse_test 0.0594693098480329\n",
      "mse_train 0.0539642372469772\n",
      "mse_test 0.057513474022115776\n",
      "mse_train 0.053665759959919485\n",
      "mse_test 0.05753656802340696\n",
      "mse_train 0.05349553859093424\n",
      "mse_test 0.057133334294416124\n",
      "mse_train 0.0523901932028927\n",
      "mse_test 0.056215813001233156\n",
      "mse_train 0.0523857005620228\n",
      "mse_test 0.056216016083557564\n",
      "mse_train 0.0523857005620228\n",
      "mse_test 0.05621601608355767\n",
      "mse_train 0.05237361417741471\n",
      "mse_test 0.056201132798861034\n",
      "mse_train 0.05167286634876757\n",
      "mse_test 0.055060596643690035\n",
      "mse_train 0.05104784742547652\n",
      "mse_test 0.05419728013152864\n",
      "mse_train 0.0510387802233187\n",
      "mse_test 0.054161571650315335\n",
      "mse_train 0.05103878022331871\n",
      "mse_test 0.054161571650315286\n",
      "mse_train 0.05103878022331871\n",
      "mse_test 0.05416157165031523\n",
      "mse_train 0.04978934847719204\n",
      "mse_test 0.05290446961793523\n",
      "mse_train 0.04962029350447694\n",
      "mse_test 0.052604010488468425\n"
     ]
    }
   ],
   "source": [
    "from sklearn.model_selection import train_test_split\n",
    "X_train, X_test, y_train, y_test = train_test_split(X, y, test_size = 0.2, random_state=3)\n",
    "\n",
    "MSE_test = []\n",
    "MSE_train = []\n",
    "list_n = list(range(1, len(X.columns)))\n",
    "for n in list_n: \n",
    "    select_n = RFE(linreg, n_features_to_select = n)\n",
    "    select_n = select_n.fit(X_train, np.ravel(y_train))\n",
    "    selected_columns = X.columns[select_n.support_ ]\n",
    "    linreg.fit(X_train[selected_columns],y_train)\n",
    "    yhat_train = linreg.predict(X_train[selected_columns])\n",
    "    yhat_test = linreg.predict(X_test[selected_columns])\n",
    "    mse_train = np.sum((y_train-yhat_train)**2)/len(y_train)\n",
    "    mse_test = np.sum((y_test-yhat_test)**2)/len(y_test)\n",
    "    print('mse_train', mse_train)\n",
    "    print('mse_test', mse_test)   \n",
    "\n",
    "MSE_test.append(mse_test)\n",
    "MSE_train.append(mse_train)"
   ]
  },
  {
   "cell_type": "code",
   "execution_count": 124,
   "metadata": {},
   "outputs": [
    {
     "data": {
      "text/plain": [
       "(10068, 2517, 10068, 2517)"
      ]
     },
     "execution_count": 124,
     "metadata": {},
     "output_type": "execute_result"
    }
   ],
   "source": [
    "len(X_train), len(X_test), len(y_train), len(y_test)"
   ]
  },
  {
   "cell_type": "markdown",
   "metadata": {},
   "source": [
    "### Train-Test-Split Analysis\n",
    "Difference in MSE between train and test data above. Results dependent upon train-test-split, which is different each time you run the RFE. We may have better luck with cross-validation which does not depend upon the variability of randomly splitting our data in advance of MSE calculations."
   ]
  },
  {
   "cell_type": "markdown",
   "metadata": {},
   "source": [
    "### Cross Validation"
   ]
  },
  {
   "cell_type": "markdown",
   "metadata": {},
   "source": [
    "cross_val_score - linreg instance, features in df, target, setting cv=10 cross validation (splitting into 10), scoring is MSE"
   ]
  },
  {
   "cell_type": "code",
   "execution_count": 125,
   "metadata": {},
   "outputs": [
    {
     "name": "stdout",
     "output_type": "stream",
     "text": [
      "[-0.04643207 -0.056354   -0.05027586 -0.05172294 -0.04761908 -0.05301805\n",
      " -0.05265838 -0.05189478 -0.04967351 -0.04814063]\n",
      "Index(['bedrooms', 'sqft_lot15', 'waterfront', 'condition', 'grade',\n",
      "       'yr_built', 'zipcode', 'lat', 'long', 'basement', 'no_basement',\n",
      "       'renovation', 'no_renovation', 'no_view', 'poor_view', 'average_view',\n",
      "       'good_view', 'great_view'],\n",
      "      dtype='object')\n"
     ]
    }
   ],
   "source": [
    "from sklearn.metrics import mean_squared_error\n",
    "from sklearn.model_selection import cross_val_score\n",
    "\n",
    "select_10 = RFE(linreg, n_features_to_select = 10)\n",
    "select_10 = select_n.fit(X, np.ravel(y))\n",
    "selected_columns = X.columns[select_n.support_]\n",
    "\n",
    "cv_10_results = cross_val_score(linreg, X[selected_columns], y, cv=10, scoring=\"neg_mean_squared_error\")\n",
    "\n",
    "print(cv_10_results)\n",
    "print(selected_columns)"
   ]
  },
  {
   "cell_type": "code",
   "execution_count": 126,
   "metadata": {},
   "outputs": [],
   "source": [
    "cv_10_results_new = -cv_10_results"
   ]
  },
  {
   "cell_type": "code",
   "execution_count": 127,
   "metadata": {},
   "outputs": [
    {
     "data": {
      "text/plain": [
       "0.05077892885276984"
      ]
     },
     "execution_count": 127,
     "metadata": {},
     "output_type": "execute_result"
    }
   ],
   "source": [
    "np.mean(cv_10_results_new)"
   ]
  },
  {
   "cell_type": "markdown",
   "metadata": {},
   "source": [
    "## Final Model"
   ]
  },
  {
   "cell_type": "code",
   "execution_count": 129,
   "metadata": {},
   "outputs": [
    {
     "data": {
      "text/html": [
       "<div>\n",
       "<style scoped>\n",
       "    .dataframe tbody tr th:only-of-type {\n",
       "        vertical-align: middle;\n",
       "    }\n",
       "\n",
       "    .dataframe tbody tr th {\n",
       "        vertical-align: top;\n",
       "    }\n",
       "\n",
       "    .dataframe thead th {\n",
       "        text-align: right;\n",
       "    }\n",
       "</style>\n",
       "<table border=\"1\" class=\"dataframe\">\n",
       "  <thead>\n",
       "    <tr style=\"text-align: right;\">\n",
       "      <th></th>\n",
       "      <th>price</th>\n",
       "      <th>bedrooms</th>\n",
       "      <th>sqft_above</th>\n",
       "      <th>sqft_lot15</th>\n",
       "    </tr>\n",
       "  </thead>\n",
       "  <tbody>\n",
       "    <tr>\n",
       "      <th>0</th>\n",
       "      <td>12.309982</td>\n",
       "      <td>1.098612</td>\n",
       "      <td>1180</td>\n",
       "      <td>8.639411</td>\n",
       "    </tr>\n",
       "    <tr>\n",
       "      <th>1</th>\n",
       "      <td>13.195614</td>\n",
       "      <td>1.098612</td>\n",
       "      <td>2170</td>\n",
       "      <td>8.941022</td>\n",
       "    </tr>\n",
       "    <tr>\n",
       "      <th>2</th>\n",
       "      <td>12.100712</td>\n",
       "      <td>0.693147</td>\n",
       "      <td>770</td>\n",
       "      <td>8.994917</td>\n",
       "    </tr>\n",
       "    <tr>\n",
       "      <th>4</th>\n",
       "      <td>13.142166</td>\n",
       "      <td>1.098612</td>\n",
       "      <td>1680</td>\n",
       "      <td>8.923058</td>\n",
       "    </tr>\n",
       "    <tr>\n",
       "      <th>8</th>\n",
       "      <td>12.343658</td>\n",
       "      <td>1.098612</td>\n",
       "      <td>1050</td>\n",
       "      <td>9.001223</td>\n",
       "    </tr>\n",
       "  </tbody>\n",
       "</table>\n",
       "</div>"
      ],
      "text/plain": [
       "       price  bedrooms  sqft_above  sqft_lot15\n",
       "0  12.309982  1.098612        1180    8.639411\n",
       "1  13.195614  1.098612        2170    8.941022\n",
       "2  12.100712  0.693147         770    8.994917\n",
       "4  13.142166  1.098612        1680    8.923058\n",
       "8  12.343658  1.098612        1050    9.001223"
      ]
     },
     "execution_count": 129,
     "metadata": {},
     "output_type": "execute_result"
    }
   ],
   "source": [
    "df_numerical_log_3.head()"
   ]
  },
  {
   "cell_type": "code",
   "execution_count": 130,
   "metadata": {},
   "outputs": [
    {
     "data": {
      "text/html": [
       "<div>\n",
       "<style scoped>\n",
       "    .dataframe tbody tr th:only-of-type {\n",
       "        vertical-align: middle;\n",
       "    }\n",
       "\n",
       "    .dataframe tbody tr th {\n",
       "        vertical-align: top;\n",
       "    }\n",
       "\n",
       "    .dataframe thead th {\n",
       "        text-align: right;\n",
       "    }\n",
       "</style>\n",
       "<table border=\"1\" class=\"dataframe\">\n",
       "  <thead>\n",
       "    <tr style=\"text-align: right;\">\n",
       "      <th></th>\n",
       "      <th>price</th>\n",
       "      <th>bedrooms</th>\n",
       "      <th>bathrooms</th>\n",
       "      <th>sqft_living</th>\n",
       "      <th>sqft_lot</th>\n",
       "      <th>floors</th>\n",
       "      <th>sqft_above</th>\n",
       "      <th>sqft_basement</th>\n",
       "      <th>sqft_living15</th>\n",
       "      <th>sqft_lot15</th>\n",
       "    </tr>\n",
       "  </thead>\n",
       "  <tbody>\n",
       "    <tr>\n",
       "      <th>0</th>\n",
       "      <td>221900.0</td>\n",
       "      <td>3</td>\n",
       "      <td>1.00</td>\n",
       "      <td>1180</td>\n",
       "      <td>5650</td>\n",
       "      <td>1.0</td>\n",
       "      <td>1180</td>\n",
       "      <td>0.0</td>\n",
       "      <td>1340</td>\n",
       "      <td>5650</td>\n",
       "    </tr>\n",
       "    <tr>\n",
       "      <th>1</th>\n",
       "      <td>538000.0</td>\n",
       "      <td>3</td>\n",
       "      <td>2.25</td>\n",
       "      <td>2570</td>\n",
       "      <td>7242</td>\n",
       "      <td>2.0</td>\n",
       "      <td>2170</td>\n",
       "      <td>400.0</td>\n",
       "      <td>1690</td>\n",
       "      <td>7639</td>\n",
       "    </tr>\n",
       "    <tr>\n",
       "      <th>2</th>\n",
       "      <td>180000.0</td>\n",
       "      <td>2</td>\n",
       "      <td>1.00</td>\n",
       "      <td>770</td>\n",
       "      <td>10000</td>\n",
       "      <td>1.0</td>\n",
       "      <td>770</td>\n",
       "      <td>0.0</td>\n",
       "      <td>2720</td>\n",
       "      <td>8062</td>\n",
       "    </tr>\n",
       "    <tr>\n",
       "      <th>4</th>\n",
       "      <td>510000.0</td>\n",
       "      <td>3</td>\n",
       "      <td>2.00</td>\n",
       "      <td>1680</td>\n",
       "      <td>8080</td>\n",
       "      <td>1.0</td>\n",
       "      <td>1680</td>\n",
       "      <td>0.0</td>\n",
       "      <td>1800</td>\n",
       "      <td>7503</td>\n",
       "    </tr>\n",
       "    <tr>\n",
       "      <th>8</th>\n",
       "      <td>229500.0</td>\n",
       "      <td>3</td>\n",
       "      <td>1.00</td>\n",
       "      <td>1780</td>\n",
       "      <td>7470</td>\n",
       "      <td>1.0</td>\n",
       "      <td>1050</td>\n",
       "      <td>730.0</td>\n",
       "      <td>1780</td>\n",
       "      <td>8113</td>\n",
       "    </tr>\n",
       "  </tbody>\n",
       "</table>\n",
       "</div>"
      ],
      "text/plain": [
       "      price  bedrooms  bathrooms  sqft_living  sqft_lot  floors  sqft_above  \\\n",
       "0  221900.0         3       1.00         1180      5650     1.0        1180   \n",
       "1  538000.0         3       2.25         2570      7242     2.0        2170   \n",
       "2  180000.0         2       1.00          770     10000     1.0         770   \n",
       "4  510000.0         3       2.00         1680      8080     1.0        1680   \n",
       "8  229500.0         3       1.00         1780      7470     1.0        1050   \n",
       "\n",
       "   sqft_basement  sqft_living15  sqft_lot15  \n",
       "0            0.0           1340        5650  \n",
       "1          400.0           1690        7639  \n",
       "2            0.0           2720        8062  \n",
       "4            0.0           1800        7503  \n",
       "8          730.0           1780        8113  "
      ]
     },
     "execution_count": 130,
     "metadata": {},
     "output_type": "execute_result"
    }
   ],
   "source": [
    "df_numerical_features.head()"
   ]
  },
  {
   "cell_type": "code",
   "execution_count": 128,
   "metadata": {},
   "outputs": [
    {
     "data": {
      "text/html": [
       "<table class=\"simpletable\">\n",
       "<caption>OLS Regression Results</caption>\n",
       "<tr>\n",
       "  <th>Dep. Variable:</th>          <td>price</td>      <th>  R-squared:         </th> <td>   0.610</td>\n",
       "</tr>\n",
       "<tr>\n",
       "  <th>Model:</th>                   <td>OLS</td>       <th>  Adj. R-squared:    </th> <td>   0.609</td>\n",
       "</tr>\n",
       "<tr>\n",
       "  <th>Method:</th>             <td>Least Squares</td>  <th>  F-statistic:       </th> <td>   1228.</td>\n",
       "</tr>\n",
       "<tr>\n",
       "  <th>Date:</th>             <td>Tue, 12 Mar 2019</td> <th>  Prob (F-statistic):</th>  <td>  0.00</td> \n",
       "</tr>\n",
       "<tr>\n",
       "  <th>Time:</th>                 <td>16:44:29</td>     <th>  Log-Likelihood:    </th> <td>  1743.8</td>\n",
       "</tr>\n",
       "<tr>\n",
       "  <th>No. Observations:</th>      <td> 12585</td>      <th>  AIC:               </th> <td>  -3454.</td>\n",
       "</tr>\n",
       "<tr>\n",
       "  <th>Df Residuals:</th>          <td> 12568</td>      <th>  BIC:               </th> <td>  -3327.</td>\n",
       "</tr>\n",
       "<tr>\n",
       "  <th>Df Model:</th>              <td>    16</td>      <th>                     </th>     <td> </td>   \n",
       "</tr>\n",
       "<tr>\n",
       "  <th>Covariance Type:</th>      <td>nonrobust</td>    <th>                     </th>     <td> </td>   \n",
       "</tr>\n",
       "</table>\n",
       "<table class=\"simpletable\">\n",
       "<tr>\n",
       "        <td></td>           <th>coef</th>     <th>std err</th>      <th>t</th>      <th>P>|t|</th>  <th>[0.025</th>    <th>0.975]</th>  \n",
       "</tr>\n",
       "<tr>\n",
       "  <th>const</th>         <td>    4.2440</td> <td>    1.792</td> <td>    2.368</td> <td> 0.018</td> <td>    0.731</td> <td>    7.757</td>\n",
       "</tr>\n",
       "<tr>\n",
       "  <th>bedrooms</th>      <td>   -0.0018</td> <td>    0.009</td> <td>   -0.202</td> <td> 0.840</td> <td>   -0.019</td> <td>    0.015</td>\n",
       "</tr>\n",
       "<tr>\n",
       "  <th>sqft_above</th>    <td>    0.0003</td> <td> 6.19e-06</td> <td>   40.615</td> <td> 0.000</td> <td>    0.000</td> <td>    0.000</td>\n",
       "</tr>\n",
       "<tr>\n",
       "  <th>sqft_lot15</th>    <td>   -0.0948</td> <td>    0.004</td> <td>  -23.799</td> <td> 0.000</td> <td>   -0.103</td> <td>   -0.087</td>\n",
       "</tr>\n",
       "<tr>\n",
       "  <th>waterfront</th>    <td>    0.5177</td> <td>    0.127</td> <td>    4.079</td> <td> 0.000</td> <td>    0.269</td> <td>    0.766</td>\n",
       "</tr>\n",
       "<tr>\n",
       "  <th>condition</th>     <td>    0.0465</td> <td>    0.003</td> <td>   14.454</td> <td> 0.000</td> <td>    0.040</td> <td>    0.053</td>\n",
       "</tr>\n",
       "<tr>\n",
       "  <th>grade</th>         <td>    0.1357</td> <td>    0.003</td> <td>   39.104</td> <td> 0.000</td> <td>    0.129</td> <td>    0.143</td>\n",
       "</tr>\n",
       "<tr>\n",
       "  <th>yr_built</th>      <td>   -0.0023</td> <td> 9.71e-05</td> <td>  -23.826</td> <td> 0.000</td> <td>   -0.003</td> <td>   -0.002</td>\n",
       "</tr>\n",
       "<tr>\n",
       "  <th>zipcode</th>       <td>   -0.0004</td> <td> 4.43e-05</td> <td>   -7.909</td> <td> 0.000</td> <td>   -0.000</td> <td>   -0.000</td>\n",
       "</tr>\n",
       "<tr>\n",
       "  <th>lat</th>           <td>    1.3031</td> <td>    0.014</td> <td>   92.176</td> <td> 0.000</td> <td>    1.275</td> <td>    1.331</td>\n",
       "</tr>\n",
       "<tr>\n",
       "  <th>long</th>          <td>    0.1644</td> <td>    0.019</td> <td>    8.788</td> <td> 0.000</td> <td>    0.128</td> <td>    0.201</td>\n",
       "</tr>\n",
       "<tr>\n",
       "  <th>basement</th>      <td>    2.1996</td> <td>    0.896</td> <td>    2.454</td> <td> 0.014</td> <td>    0.443</td> <td>    3.956</td>\n",
       "</tr>\n",
       "<tr>\n",
       "  <th>no_basement</th>   <td>    2.0444</td> <td>    0.896</td> <td>    2.282</td> <td> 0.023</td> <td>    0.288</td> <td>    3.801</td>\n",
       "</tr>\n",
       "<tr>\n",
       "  <th>renovation</th>    <td>    2.1424</td> <td>    0.896</td> <td>    2.391</td> <td> 0.017</td> <td>    0.386</td> <td>    3.899</td>\n",
       "</tr>\n",
       "<tr>\n",
       "  <th>no_renovation</th> <td>    2.1015</td> <td>    0.896</td> <td>    2.345</td> <td> 0.019</td> <td>    0.345</td> <td>    3.859</td>\n",
       "</tr>\n",
       "<tr>\n",
       "  <th>no_view</th>       <td>    0.7138</td> <td>    0.358</td> <td>    1.994</td> <td> 0.046</td> <td>    0.012</td> <td>    1.415</td>\n",
       "</tr>\n",
       "<tr>\n",
       "  <th>poor_view</th>     <td>    0.8866</td> <td>    0.359</td> <td>    2.466</td> <td> 0.014</td> <td>    0.182</td> <td>    1.591</td>\n",
       "</tr>\n",
       "<tr>\n",
       "  <th>average_view</th>  <td>    0.8362</td> <td>    0.359</td> <td>    2.331</td> <td> 0.020</td> <td>    0.133</td> <td>    1.539</td>\n",
       "</tr>\n",
       "<tr>\n",
       "  <th>good_view</th>     <td>    0.8908</td> <td>    0.360</td> <td>    2.476</td> <td> 0.013</td> <td>    0.186</td> <td>    1.596</td>\n",
       "</tr>\n",
       "<tr>\n",
       "  <th>great_view</th>    <td>    0.9166</td> <td>    0.363</td> <td>    2.523</td> <td> 0.012</td> <td>    0.205</td> <td>    1.629</td>\n",
       "</tr>\n",
       "</table>\n",
       "<table class=\"simpletable\">\n",
       "<tr>\n",
       "  <th>Omnibus:</th>       <td>752.620</td> <th>  Durbin-Watson:     </th> <td>   2.006</td> \n",
       "</tr>\n",
       "<tr>\n",
       "  <th>Prob(Omnibus):</th> <td> 0.000</td>  <th>  Jarque-Bera (JB):  </th> <td>1302.074</td> \n",
       "</tr>\n",
       "<tr>\n",
       "  <th>Skew:</th>          <td>-0.467</td>  <th>  Prob(JB):          </th> <td>1.81e-283</td>\n",
       "</tr>\n",
       "<tr>\n",
       "  <th>Kurtosis:</th>      <td> 4.269</td>  <th>  Cond. No.          </th> <td>3.38e+21</td> \n",
       "</tr>\n",
       "</table><br/><br/>Warnings:<br/>[1] Standard Errors assume that the covariance matrix of the errors is correctly specified.<br/>[2] The smallest eigenvalue is 1.06e-29. This might indicate that there are<br/>strong multicollinearity problems or that the design matrix is singular."
      ],
      "text/plain": [
       "<class 'statsmodels.iolib.summary.Summary'>\n",
       "\"\"\"\n",
       "                            OLS Regression Results                            \n",
       "==============================================================================\n",
       "Dep. Variable:                  price   R-squared:                       0.610\n",
       "Model:                            OLS   Adj. R-squared:                  0.609\n",
       "Method:                 Least Squares   F-statistic:                     1228.\n",
       "Date:                Tue, 12 Mar 2019   Prob (F-statistic):               0.00\n",
       "Time:                        16:44:29   Log-Likelihood:                 1743.8\n",
       "No. Observations:               12585   AIC:                            -3454.\n",
       "Df Residuals:                   12568   BIC:                            -3327.\n",
       "Df Model:                          16                                         \n",
       "Covariance Type:            nonrobust                                         \n",
       "=================================================================================\n",
       "                    coef    std err          t      P>|t|      [0.025      0.975]\n",
       "---------------------------------------------------------------------------------\n",
       "const             4.2440      1.792      2.368      0.018       0.731       7.757\n",
       "bedrooms         -0.0018      0.009     -0.202      0.840      -0.019       0.015\n",
       "sqft_above        0.0003   6.19e-06     40.615      0.000       0.000       0.000\n",
       "sqft_lot15       -0.0948      0.004    -23.799      0.000      -0.103      -0.087\n",
       "waterfront        0.5177      0.127      4.079      0.000       0.269       0.766\n",
       "condition         0.0465      0.003     14.454      0.000       0.040       0.053\n",
       "grade             0.1357      0.003     39.104      0.000       0.129       0.143\n",
       "yr_built         -0.0023   9.71e-05    -23.826      0.000      -0.003      -0.002\n",
       "zipcode          -0.0004   4.43e-05     -7.909      0.000      -0.000      -0.000\n",
       "lat               1.3031      0.014     92.176      0.000       1.275       1.331\n",
       "long              0.1644      0.019      8.788      0.000       0.128       0.201\n",
       "basement          2.1996      0.896      2.454      0.014       0.443       3.956\n",
       "no_basement       2.0444      0.896      2.282      0.023       0.288       3.801\n",
       "renovation        2.1424      0.896      2.391      0.017       0.386       3.899\n",
       "no_renovation     2.1015      0.896      2.345      0.019       0.345       3.859\n",
       "no_view           0.7138      0.358      1.994      0.046       0.012       1.415\n",
       "poor_view         0.8866      0.359      2.466      0.014       0.182       1.591\n",
       "average_view      0.8362      0.359      2.331      0.020       0.133       1.539\n",
       "good_view         0.8908      0.360      2.476      0.013       0.186       1.596\n",
       "great_view        0.9166      0.363      2.523      0.012       0.205       1.629\n",
       "==============================================================================\n",
       "Omnibus:                      752.620   Durbin-Watson:                   2.006\n",
       "Prob(Omnibus):                  0.000   Jarque-Bera (JB):             1302.074\n",
       "Skew:                          -0.467   Prob(JB):                    1.81e-283\n",
       "Kurtosis:                       4.269   Cond. No.                     3.38e+21\n",
       "==============================================================================\n",
       "\n",
       "Warnings:\n",
       "[1] Standard Errors assume that the covariance matrix of the errors is correctly specified.\n",
       "[2] The smallest eigenvalue is 1.06e-29. This might indicate that there are\n",
       "strong multicollinearity problems or that the design matrix is singular.\n",
       "\"\"\""
      ]
     },
     "execution_count": 128,
     "metadata": {},
     "output_type": "execute_result"
    }
   ],
   "source": [
    "X= df_concat_cat_num_1\n",
    "y= df_numerical_log_3.price\n",
    "X_int = sm.add_constant(X)\n",
    "model = sm.OLS(y, X_int).fit()\n",
    "model.summary()"
   ]
  },
  {
   "cell_type": "markdown",
   "metadata": {},
   "source": [
    "## Summary of Approach"
   ]
  },
  {
   "cell_type": "markdown",
   "metadata": {},
   "source": [
    "### Obtain\n",
    "\n",
    "The available data set, kc_house_data.csv, was accessible in the repo and easily read into a Pandas Data Frame for me to start to understand at a deeper level in terms of size, context, and value of the given data."
   ]
  },
  {
   "cell_type": "markdown",
   "metadata": {},
   "source": [
    "### Scrub\n",
    "\n",
    "The scrubbing process entailed dealing with null/missing values, user input errors, questionable values, impractical features, many outliers that all affected the integrity of the data set as a whole. Addressing data types and navigating the unique values in each column helped me to understand the level of significance of each feature combined with my business knowledge and common sense. Removing the null/missing values still left me with a large number of records to work with. Once I saw a number of outliers for many features in the histograms, I could easily remove such values resulting in more normal distributions. The histograms provided a first piece of evidence for features that do not represent a normal distribution."
   ]
  },
  {
   "cell_type": "markdown",
   "metadata": {},
   "source": [
    "### Explore\n",
    "\n",
    "Exploring the data set consisted of first understanding the relationships (based on measured correlation) between the features themselves, before we even take the target variable into account. Checking for multicollinearity by constructing a heatmap gave me a second helpful reference point/piece of evidence for features that are candidates for removal. Transformation also played a key part as scale is important when comparing features and their values. In order to uniformly compare these values, they need to be transformed. I used log scaling and normalization in parallel, but decided to stick with log scaling as I saw better results."
   ]
  },
  {
   "cell_type": "markdown",
   "metadata": {},
   "source": [
    "### Model\n",
    "\n",
    "Running intial OLS models on the features gives me a third piece of evidence that would speak to the value of a feature in these linear regression models or an additional data point indicating that it is a good candidate for removal. This iterative process through feature elimination further improves our model's performance. I implemented certain checks on the model as well to ensure that it is robust and not overfitted to the data that it was trained on. An overfitted model/algorithm would be of no general use to other sets of data."
   ]
  },
  {
   "cell_type": "markdown",
   "metadata": {},
   "source": [
    "### Interpret\n",
    "\n",
    "With a completed linear regression model containing the best predictors of house sales price, I can now make insights into the King County House population with a model trained on a sample data set.\n",
    "\n",
    "## Top Predictors\n",
    "\n",
    "Based on the data from the Kings County, WA Housing Data Set and a littany of tests to analyze the data, the best predictors of housing prices are:\n",
    "\n",
    " - bedrooms - the number of bedrooms in the house\n",
    " - waterfront - house has a view to a waterfront (river, lake, bay, and/or large puddle)\n",
    " - grade - overall grade fiven to the housing unit, based on Kings County grading system\n",
    " - lat - latitude coordinate of the house location\n",
    " - no_view - house evaluated and determined to have limited or no view of the outdoors, assessed score of 0"
   ]
  }
 ],
 "metadata": {
  "kernelspec": {
   "display_name": "learn-env",
   "language": "python",
   "name": "learn-env"
  },
  "language_info": {
   "codemirror_mode": {
    "name": "ipython",
    "version": 3
   },
   "file_extension": ".py",
   "mimetype": "text/x-python",
   "name": "python",
   "nbconvert_exporter": "python",
   "pygments_lexer": "ipython3",
   "version": "3.6.6"
  }
 },
 "nbformat": 4,
 "nbformat_minor": 2
}
